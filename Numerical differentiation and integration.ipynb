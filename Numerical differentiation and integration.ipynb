{
 "cells": [
  {
   "cell_type": "code",
   "execution_count": 1,
   "metadata": {},
   "outputs": [],
   "source": [
    "import math\n",
    "from math import pi,cos,sin"
   ]
  },
  {
   "cell_type": "code",
   "execution_count": 2,
   "metadata": {},
   "outputs": [],
   "source": [
    " from tabulate import tabulate"
   ]
  },
  {
   "cell_type": "code",
   "execution_count": 3,
   "metadata": {},
   "outputs": [],
   "source": [
    "from math import *\n",
    "from numpy import *\n",
    "import numpy as np\n",
    "import matplotlib.pyplot as plt"
   ]
  },
  {
   "cell_type": "markdown",
   "metadata": {},
   "source": [
    "# Fórmulas para la primera derivada"
   ]
  },
  {
   "cell_type": "code",
   "execution_count": 4,
   "metadata": {},
   "outputs": [],
   "source": [
    "def f(x):\n",
    "    return(x*exp(x)) # Introducir función"
   ]
  },
  {
   "cell_type": "code",
   "execution_count": 31,
   "metadata": {},
   "outputs": [],
   "source": [
    "x0=2 # punto en el que se calculará la derivada\n",
    "h=0.1 # longitud de intervalos"
   ]
  },
  {
   "cell_type": "code",
   "execution_count": 32,
   "metadata": {},
   "outputs": [],
   "source": [
    "def derivada3ex(f,x0,h):\n",
    "    return (1/(2*h)*(-3*f(x0)+4*f(x0+h)-f(x0+2*h)))\n",
    "def derivada3pm(f,x0,h):\n",
    "    return (1/(2*h)*(f(x0+h)-f(x0-h)))\n",
    "def derivada5ex(f,x0,h):\n",
    "    return (1/(12*h)*(-25*f(x0)+48*f(x0+h)-36*f(x0+2*h)+16*f(x0+3*h)-3*f(x0+4*h)))\n",
    "def derivada5pm(f,x0,h):\n",
    "    return (1/(12*h)*(f(x0-2*h)-8*f(x0-h)+8*f(x0+h)-f(x0+2*h)))"
   ]
  },
  {
   "cell_type": "code",
   "execution_count": 33,
   "metadata": {},
   "outputs": [
    {
     "data": {
      "text/plain": [
       "-0.0036666416141901024"
      ]
     },
     "execution_count": 33,
     "metadata": {},
     "output_type": "execute_result"
    }
   ],
   "source": [
    "derivada3ex(f,x0,h)"
   ]
  },
  {
   "cell_type": "code",
   "execution_count": 34,
   "metadata": {},
   "outputs": [
    {
     "data": {
      "text/plain": [
       "-0.005387464126769781"
      ]
     },
     "execution_count": 34,
     "metadata": {},
     "output_type": "execute_result"
    }
   ],
   "source": [
    "derivada3pm(f,x0,h)"
   ]
  },
  {
   "cell_type": "code",
   "execution_count": 35,
   "metadata": {},
   "outputs": [
    {
     "data": {
      "text/plain": [
       "-0.004448415605933861"
      ]
     },
     "execution_count": 35,
     "metadata": {},
     "output_type": "execute_result"
    }
   ],
   "source": [
    "derivada5pm(f,x0,h)"
   ]
  },
  {
   "cell_type": "code",
   "execution_count": 36,
   "metadata": {},
   "outputs": [
    {
     "data": {
      "text/plain": [
       "-0.004323949614078689"
      ]
     },
     "execution_count": 36,
     "metadata": {},
     "output_type": "execute_result"
    }
   ],
   "source": [
    "derivada5ex(f,x0,h)"
   ]
  },
  {
   "cell_type": "markdown",
   "metadata": {},
   "source": [
    "# Fórmulas para la segunda derivada "
   ]
  },
  {
   "cell_type": "code",
   "execution_count": 37,
   "metadata": {},
   "outputs": [],
   "source": [
    "def f(x):\n",
    "    return (x*exp(x))"
   ]
  },
  {
   "cell_type": "code",
   "execution_count": 38,
   "metadata": {},
   "outputs": [],
   "source": [
    "x0=2\n",
    "h=0.1"
   ]
  },
  {
   "cell_type": "code",
   "execution_count": 39,
   "metadata": {},
   "outputs": [],
   "source": [
    "def segderivadapm(f,x0,h):\n",
    "    return (1/(h**2)*(f(x0-h)-2*f(x0)+f(x0+h)))"
   ]
  },
  {
   "cell_type": "code",
   "execution_count": 40,
   "metadata": {},
   "outputs": [
    {
     "data": {
      "text/plain": [
       "29.59318610000707"
      ]
     },
     "execution_count": 40,
     "metadata": {},
     "output_type": "execute_result"
    }
   ],
   "source": [
    "segderivadapm(f,x0,h)"
   ]
  },
  {
   "cell_type": "markdown",
   "metadata": {},
   "source": [
    "# Integración numérica "
   ]
  },
  {
   "cell_type": "markdown",
   "metadata": {},
   "source": [
    "## Fórmulas cerradas"
   ]
  },
  {
   "cell_type": "code",
   "execution_count": 41,
   "metadata": {},
   "outputs": [],
   "source": [
    "# (a,b) intervalo de integración\n",
    "# número de subdivisiones del intervalo\n",
    "\n",
    "def trapecio(f,a,b,n):\n",
    "    h=(b-a)/n\n",
    "    sol=0\n",
    "    j=0; #nº evaluaciones\n",
    "    sol=sol+f(a)+f(b)\n",
    "    j=j+2 #2 evaluaciones\n",
    "    for i in range (1,n):\n",
    "        sol=sol+2*f(a+i*h) #(n-1) evaluaciones\n",
    "        j=j+1 # n+1 evaluaciones\n",
    "    sol=(h/2)*sol\n",
    "    return sol\n",
    "\n",
    "def simpson(f,a,b,n):\n",
    "    h=(b-a)/n\n",
    "    sol=0\n",
    "    sol=sol+f(a)+f(b)\n",
    "    for i in range (1,n):\n",
    "        sol=sol+2*f(a+i*h)\n",
    "    for i in range (1,n+1):\n",
    "        sol=sol+4*f(a+i*h-h/2)\n",
    "    sol=(h/6)*sol\n",
    "    return sol\n",
    "\n",
    "def simpson3oct(f,a,b,n):\n",
    "    h=(b-a)/n\n",
    "    sol=0\n",
    "    sol=sol+f(a)+f(b)\n",
    "    for i in range (1,n):\n",
    "        sol=sol+2*f(a+i*h)\n",
    "    for i in range (1,n+1):\n",
    "        sol=sol+3*f(a+i*h-h/3)\n",
    "        sol=sol+3*f(a+i*h-2*h/3)\n",
    "    sol=(h/8)*sol\n",
    "    return sol\n",
    "\n",
    "def cotescerrada4(f,a,b,n):\n",
    "    h=(b-a)/n\n",
    "    sol=0\n",
    "    sol=sol+7*f(a)+7*f(b)\n",
    "    for i in range (1,n):\n",
    "        sol=sol+14*f(a+i*h)\n",
    "    for i in range (1,n+1):\n",
    "        sol=sol+32*f(a+i*h-h/4)\n",
    "        sol=sol+12*f(a+i*h-h/2)\n",
    "        sol=sol+32*f(a+i*h-3*h/4)\n",
    "    sol=(h/90)*sol\n",
    "    return sol"
   ]
  },
  {
   "cell_type": "code",
   "execution_count": 53,
   "metadata": {},
   "outputs": [],
   "source": [
    "def f(x):\n",
    "    return(exp(x))"
   ]
  },
  {
   "cell_type": "code",
   "execution_count": 54,
   "metadata": {},
   "outputs": [
    {
     "data": {
      "text/plain": [
       "157.6384635207804"
      ]
     },
     "execution_count": 54,
     "metadata": {},
     "output_type": "execute_result"
    }
   ],
   "source": [
    "trapecio(f,1,5,4)"
   ]
  },
  {
   "cell_type": "code",
   "execution_count": 55,
   "metadata": {},
   "outputs": [
    {
     "data": {
      "text/plain": [
       "146.4171131019035"
      ]
     },
     "execution_count": 55,
     "metadata": {},
     "output_type": "execute_result"
    }
   ],
   "source": [
    "simpson(f,1,5,2) #m=2n ponemos m"
   ]
  },
  {
   "cell_type": "code",
   "execution_count": 56,
   "metadata": {},
   "outputs": [
    {
     "data": {
      "text/plain": [
       "1.1933489940077529"
      ]
     },
     "execution_count": 56,
     "metadata": {},
     "output_type": "execute_result"
    }
   ],
   "source": [
    "simpson3oct(f,0,math.pi/4,1)"
   ]
  },
  {
   "cell_type": "code",
   "execution_count": 57,
   "metadata": {},
   "outputs": [
    {
     "data": {
      "text/plain": [
       "1.1932801925737246"
      ]
     },
     "execution_count": 57,
     "metadata": {},
     "output_type": "execute_result"
    }
   ],
   "source": [
    "cotescerrada4(f,0,math.pi/4,1)"
   ]
  },
  {
   "cell_type": "markdown",
   "metadata": {},
   "source": [
    "# Integración de Romberg"
   ]
  },
  {
   "cell_type": "code",
   "execution_count": 58,
   "metadata": {},
   "outputs": [],
   "source": [
    "def Romberg(f,a,b,n):\n",
    "    R=[[0] * (i+1) for i in range(n)]\n",
    "    h=b-a\n",
    "    ev=0;\n",
    "    for i in range (0,n):\n",
    "        R[i][0]=trapecio(f,a,b,2**(i))\n",
    "    for j in range (1,n):\n",
    "        for i in range (j,n):\n",
    "            R[i][j]=R[i][j-1]+(R[i][j-1]-R[i-1][j-1])/(4**(j)-1)\n",
    "    print(tabulate(R,floatfmt=\".6f\"))\n",
    "    print(\"Resultado Romberg: \", R[n-1][n-1])"
   ]
  },
  {
   "cell_type": "code",
   "execution_count": 61,
   "metadata": {},
   "outputs": [],
   "source": [
    "def f(x):\n",
    "    return (2/sqrt(math.pi)*exp(-x**3)+log(x))"
   ]
  },
  {
   "cell_type": "code",
   "execution_count": 62,
   "metadata": {},
   "outputs": [
    {
     "name": "stdout",
     "output_type": "stream",
     "text": [
      "--------  --------  --------  --------  --------  --------\n",
      "0.554317\n",
      "0.499196  0.480823\n",
      "0.486624  0.482434  0.482541\n",
      "0.483674  0.482690  0.482708  0.482710\n",
      "0.482947  0.482705  0.482706  0.482706  0.482706\n",
      "0.482766  0.482706  0.482706  0.482706  0.482706  0.482706\n",
      "--------  --------  --------  --------  --------  --------\n",
      "Resultado Romberg:  0.48270570876465363\n"
     ]
    }
   ],
   "source": [
    "Romberg(f,1,2,6)"
   ]
  }
 ],
 "metadata": {
  "kernelspec": {
   "display_name": "Python 3",
   "language": "python",
   "name": "python3"
  },
  "language_info": {
   "codemirror_mode": {
    "name": "ipython",
    "version": 3
   },
   "file_extension": ".py",
   "mimetype": "text/x-python",
   "name": "python",
   "nbconvert_exporter": "python",
   "pygments_lexer": "ipython3",
   "version": "3.7.4"
  }
 },
 "nbformat": 4,
 "nbformat_minor": 2
}
