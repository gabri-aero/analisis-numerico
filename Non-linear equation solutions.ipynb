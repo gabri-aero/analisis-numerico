{
 "cells": [
  {
   "cell_type": "markdown",
   "metadata": {},
   "source": [
    "# ECUACIONES NO LINEALES"
   ]
  },
  {
   "cell_type": "code",
   "execution_count": 1,
   "metadata": {},
   "outputs": [
    {
     "name": "stdout",
     "output_type": "stream",
     "text": [
      "Requirement already satisfied: tabulate in c:\\users\\gvall\\anaconda3\\lib\\site-packages (0.8.7)\n",
      "Note: you may need to restart the kernel to use updated packages.\n"
     ]
    }
   ],
   "source": [
    "pip install tabulate"
   ]
  },
  {
   "cell_type": "code",
   "execution_count": 2,
   "metadata": {},
   "outputs": [],
   "source": [
    " from tabulate import tabulate"
   ]
  },
  {
   "cell_type": "code",
   "execution_count": 3,
   "metadata": {},
   "outputs": [],
   "source": [
    "import math\n",
    "from math import exp, sqrt, sin, cos, log"
   ]
  },
  {
   "cell_type": "markdown",
   "metadata": {},
   "source": [
    "MÉTODO DE LA BISECCIÓN"
   ]
  },
  {
   "cell_type": "code",
   "execution_count": 4,
   "metadata": {},
   "outputs": [],
   "source": [
    "#Introducción de la función\n",
    "def f(x):\n",
    "    return sqrt(x)*sin(x)-x**3+2"
   ]
  },
  {
   "cell_type": "code",
   "execution_count": 5,
   "metadata": {},
   "outputs": [
    {
     "data": {
      "text/plain": [
       "-4.714059246752164"
      ]
     },
     "execution_count": 5,
     "metadata": {},
     "output_type": "execute_result"
    }
   ],
   "source": [
    "f(2)"
   ]
  },
  {
   "cell_type": "code",
   "execution_count": 6,
   "metadata": {},
   "outputs": [],
   "source": [
    "iter=100 # iteraciones máximas y tolerancia para parar\n",
    "tol=1/30\n",
    "i=0"
   ]
  },
  {
   "cell_type": "code",
   "execution_count": 7,
   "metadata": {},
   "outputs": [],
   "source": [
    "#Definición del método de la bisección\n",
    "def bisec(a,b):\n",
    "    listabisec=[]\n",
    "    a0=a\n",
    "    b0=b\n",
    "    p=a\n",
    "    for i in range(iter):\n",
    "        pp=p\n",
    "        error1=(b0-a0)/2**(i+1)\n",
    "        p=a+(b-a)/2\n",
    "        errorA=abs(p-pp)\n",
    "        if p!=0:\n",
    "            errorB=abs(p-pp)/p\n",
    "        errorC=abs(f(p))\n",
    "        error=error1        #asignar tipo de error!!!!!!!!!!!!!!!!!!!!!!!!!!!\n",
    "        listabisec.append([i+1,a,b,p,pp,f(a),f(b),f(p),error])\n",
    "        if f(a)*f(p)<0:\n",
    "            b=p\n",
    "        if f(a)*f(p)>0:\n",
    "            a=p\n",
    "        if f(p)==0:\n",
    "            break;\n",
    "        if error<tol:\n",
    "            break;\n",
    "    print(tabulate(listabisec, headers=[\"i\",\"a\",\"b\",\"pn\",\"p(n-1)\",\"f(a)\",\"f(b)\",\"f(p)\", \"error\"]))\n",
    "    print(\"\\nEl valor obtenido es \", p)"
   ]
  },
  {
   "cell_type": "code",
   "execution_count": 8,
   "metadata": {},
   "outputs": [
    {
     "name": "stdout",
     "output_type": "stream",
     "text": [
      "  i       a    b       pn    p(n-1)      f(a)       f(b)        f(p)    error\n",
      "---  ------  ---  -------  --------  --------  ---------  ----------  -------\n",
      "  1  1       2    1.5        1       1.84147   -4.71406   -0.153323   0.5\n",
      "  2  1       1.5  1.25       1.5     1.84147   -0.153323   1.10787    0.25\n",
      "  3  1.25    1.5  1.375      1.25    1.10787   -0.153323   0.55059    0.125\n",
      "  4  1.375   1.5  1.4375     1.375   0.55059   -0.153323   0.217863   0.0625\n",
      "  5  1.4375  1.5  1.46875    1.4375  0.217863  -0.153323   0.0371888  0.03125\n",
      "\n",
      "El valor obtenido es  1.46875\n"
     ]
    }
   ],
   "source": [
    "bisec(1,2)"
   ]
  },
  {
   "cell_type": "markdown",
   "metadata": {},
   "source": [
    "MÉTODO DEL PUNTO FIJO"
   ]
  },
  {
   "cell_type": "code",
   "execution_count": 9,
   "metadata": {},
   "outputs": [],
   "source": [
    "def g(t):\n",
    "    return (cos(t)+sin(t))*0.5"
   ]
  },
  {
   "cell_type": "code",
   "execution_count": 10,
   "metadata": {},
   "outputs": [],
   "source": [
    "p0=0\n",
    "iter=10\n",
    "listapf=[]"
   ]
  },
  {
   "cell_type": "code",
   "execution_count": 11,
   "metadata": {},
   "outputs": [
    {
     "data": {
      "text/plain": [
       "0.547418790962427"
      ]
     },
     "execution_count": 11,
     "metadata": {},
     "output_type": "execute_result"
    }
   ],
   "source": [
    "g(0.1)"
   ]
  },
  {
   "cell_type": "code",
   "execution_count": 12,
   "metadata": {},
   "outputs": [],
   "source": [
    "def pfijo(g):\n",
    "    p=p0\n",
    "    pp=\"-\"\n",
    "    error=1000\n",
    "    lista=[]\n",
    "    for i in range (iter+1):\n",
    "        lista.append([i,p,pp,g(p),error])\n",
    "        listapf.append(p)\n",
    "        pp=p\n",
    "        p=g(p)\n",
    "        errorA=abs(p-pp)\n",
    "        if p!=0:\n",
    "            errorB=abs(p-pp)/p\n",
    "        errorC=abs(g(p))\n",
    "        error=errorA\n",
    "    print(tabulate(lista,headers=[\"n\",\"pn\",\"p(n-1)\",\"g(pn)\",\"error\"]))"
   ]
  },
  {
   "cell_type": "code",
   "execution_count": 13,
   "metadata": {},
   "outputs": [
    {
     "name": "stdout",
     "output_type": "stream",
     "text": [
      "  n        pn  p(n-1)                 g(pn)           error\n",
      "---  --------  ------------------  --------  --------------\n",
      "  0  0         -                   0.5       1000\n",
      "  1  0.5       0                   0.678504     0.5\n",
      "  2  0.678504  0.5                 0.703071     0.178504\n",
      "  3  0.703071  0.6785040502472879  0.704712     0.0245668\n",
      "  4  0.704712  0.7030708011381781  0.704806     0.00164102\n",
      "  5  0.704806  0.704711822103524   0.704812     9.4474e-05\n",
      "  6  0.704812  0.7048062960879935  0.704812     5.38111e-06\n",
      "  7  0.704812  0.7048116772014488  0.704812     3.06312e-07\n",
      "  8  0.704812  0.7048119835132101  0.704812     1.74357e-08\n",
      "  9  0.704812  0.7048120009489308  0.704812     9.92465e-10\n",
      " 10  0.704812  0.7048120019413959  0.704812     5.64925e-11\n"
     ]
    }
   ],
   "source": [
    "pfijo(g)"
   ]
  },
  {
   "cell_type": "code",
   "execution_count": 14,
   "metadata": {},
   "outputs": [
    {
     "data": {
      "text/plain": [
       "0.39815702328616975"
      ]
     },
     "execution_count": 14,
     "metadata": {},
     "output_type": "execute_result"
    }
   ],
   "source": [
    "cos(-0.5)+sin(-0.5)"
   ]
  },
  {
   "cell_type": "markdown",
   "metadata": {},
   "source": [
    "CONVERGENCIA ACELERADA: MÉTODO DE AITKEN"
   ]
  },
  {
   "cell_type": "code",
   "execution_count": 15,
   "metadata": {},
   "outputs": [
    {
     "data": {
      "text/plain": [
       "[0,\n",
       " 0.5,\n",
       " 0.6785040502472879,\n",
       " 0.7030708011381781,\n",
       " 0.704711822103524,\n",
       " 0.7048062960879935,\n",
       " 0.7048116772014488,\n",
       " 0.7048119835132101,\n",
       " 0.7048120009489308,\n",
       " 0.7048120019413959,\n",
       " 0.7048120019978884]"
      ]
     },
     "execution_count": 15,
     "metadata": {},
     "output_type": "execute_result"
    }
   ],
   "source": [
    "listapf"
   ]
  },
  {
   "cell_type": "code",
   "execution_count": 16,
   "metadata": {},
   "outputs": [],
   "source": [
    "def aitken(f, plista):\n",
    "    lista=[]\n",
    "    pp=\"-\"\n",
    "    error=\"-\"\n",
    "    p=plista[0]\n",
    "    for i in range (iter-1):\n",
    "        lista.append([i, p, plista[i], plista[i+1], plista[i+2], error])\n",
    "        pp=p\n",
    "        p=plista[i]-(plista[i+1]-plista[i])**2/(plista[i+2]-2*plista[i+1]+plista[i])\n",
    "        errorA=abs(p-pp)\n",
    "        if p!=0:\n",
    "            errorB=abs(p-pp)/p\n",
    "        errorC=abs(f(p))\n",
    "        error=errorA\n",
    "    print(\"\\n\\n\",tabulate(lista, headers=[\"i\",\"p Aitken\",\"pi\", \"p(i+1)\",\"p(i+2)\",\"error\"]))"
   ]
  },
  {
   "cell_type": "code",
   "execution_count": 17,
   "metadata": {},
   "outputs": [
    {
     "name": "stdout",
     "output_type": "stream",
     "text": [
      "\n",
      "\n",
      "   i    p Aitken        pi    p(i+1)    p(i+2)  error\n",
      "---  ----------  --------  --------  --------  ----------------------\n",
      "  0    0         0         0.5       0.678504  -\n",
      "  1    0.777615  0.5       0.678504  0.703071  0.7776147730392706\n",
      "  2    0.706991  0.678504  0.703071  0.704712  0.07062338051837791\n",
      "  3    0.704829  0.703071  0.704712  0.704806  0.0021621063358563397\n",
      "  4    0.704812  0.704712  0.704806  0.704812  1.721896053563654e-05\n",
      "  5    0.704812  0.704806  0.704812  0.704812  6.500959481847701e-08\n",
      "  6    0.704812  0.704812  0.704812  0.704812  2.1291524099353865e-10\n",
      "  7    0.704812  0.704812  0.704812  0.704812  6.902256544094598e-13\n",
      "  8    0.704812  0.704812  0.704812  0.704812  2.3314683517128287e-15\n"
     ]
    }
   ],
   "source": [
    "aitken(g,listapf)"
   ]
  },
  {
   "cell_type": "markdown",
   "metadata": {},
   "source": [
    "MÉTODO DE NEWTON"
   ]
  },
  {
   "cell_type": "code",
   "execution_count": 49,
   "metadata": {},
   "outputs": [],
   "source": [
    "def f(t):\n",
    "    return log(t)+cos(4*t)\n",
    "\n",
    "def df(t):\n",
    "    return 1/t-4*sin(4*t)\n",
    "\n",
    "def d2f(t):\n",
    "    return -1/(t**2)-16*cos(4*t)"
   ]
  },
  {
   "cell_type": "code",
   "execution_count": 21,
   "metadata": {
    "scrolled": true
   },
   "outputs": [
    {
     "data": {
      "text/plain": [
       "-0.6536436208636119"
      ]
     },
     "execution_count": 21,
     "metadata": {},
     "output_type": "execute_result"
    }
   ],
   "source": [
    "f(1)"
   ]
  },
  {
   "cell_type": "code",
   "execution_count": 22,
   "metadata": {},
   "outputs": [
    {
     "data": {
      "text/plain": [
       "-0.14799967711803552"
      ]
     },
     "execution_count": 22,
     "metadata": {},
     "output_type": "execute_result"
    }
   ],
   "source": [
    "f(2.3202)"
   ]
  },
  {
   "cell_type": "code",
   "execution_count": 23,
   "metadata": {},
   "outputs": [],
   "source": [
    "iter=10\n",
    "tol=10**(-9)\n",
    "p0=1\n",
    "listanewton=[]"
   ]
  },
  {
   "cell_type": "code",
   "execution_count": 24,
   "metadata": {},
   "outputs": [],
   "source": [
    "def newton(f,p0):\n",
    "    p=p0\n",
    "    lista=[]\n",
    "    pp=\"-\"\n",
    "    error=\"-\"\n",
    "    for i in range (iter):\n",
    "        lista.append([i,p,f(p),df(p),error])\n",
    "        listanewton.append(p)\n",
    "        pp=p\n",
    "        p=p-f(p)/df(p)\n",
    "        errorA=abs(p-pp)\n",
    "        if p!=0:\n",
    "            errorB=abs(p-pp)/p\n",
    "        errorC=abs(f(p))\n",
    "        error=errorA\n",
    "        if error<tol:\n",
    "            break\n",
    "    print(tabulate(lista,headers=[\"n\",\"pn\",\"f(pn)\",\"f'(pn)\",\"error\"]))\n",
    "    return p"
   ]
  },
  {
   "cell_type": "code",
   "execution_count": 26,
   "metadata": {},
   "outputs": [
    {
     "name": "stdout",
     "output_type": "stream",
     "text": [
      "  n       pn         f(pn)    f'(pn)  error\n",
      "---  -------  ------------  --------  ---------------------\n",
      "  0  1        -0.653644      4.02721  -\n",
      "  1  1.16231   0.0872869     4.85238  0.16230681387606616\n",
      "  2  1.14432   0.000104263   4.83743  0.017988470059268513\n",
      "  3  1.1443    3.23341e-10   4.8374   2.155349700116993e-05\n"
     ]
    },
    {
     "data": {
      "text/plain": [
       "1.1442967902529544"
      ]
     },
     "execution_count": 26,
     "metadata": {},
     "output_type": "execute_result"
    }
   ],
   "source": [
    "newton(f,1)"
   ]
  },
  {
   "cell_type": "code",
   "execution_count": 27,
   "metadata": {},
   "outputs": [
    {
     "name": "stdout",
     "output_type": "stream",
     "text": [
      "  n       pn         f(pn)     f'(pn)  error\n",
      "---  -------  ------------  ---------  ----------------------\n",
      "  0  1.5       1.36564       1.78433   -\n",
      "  1  0.73465  -1.28783       0.554791  0.765349694696943\n",
      "  2  3.05594   2.05896       1.67107   2.321286467750141\n",
      "  3  1.82381   1.13104      -2.84342   1.2321230721297105\n",
      "  4  2.22159  -0.0602929    -1.60103   0.3977732179116733\n",
      "  5  2.18393   0.00928479   -2.08538   0.03765888413455398\n",
      "  6  2.18838   0.000120923  -2.03092   0.004452335000359575\n",
      "  7  2.18844   2.18392e-08  -2.03019   5.954109242356509e-05\n",
      "  8  2.18844   3.33067e-16  -2.03019   1.0757225332724829e-08\n"
     ]
    },
    {
     "data": {
      "text/plain": [
       "2.188439921550615"
      ]
     },
     "execution_count": 27,
     "metadata": {},
     "output_type": "execute_result"
    }
   ],
   "source": [
    "newton(f,1.5)"
   ]
  },
  {
   "cell_type": "code",
   "execution_count": 28,
   "metadata": {},
   "outputs": [
    {
     "name": "stdout",
     "output_type": "stream",
     "text": [
      "  n       pn         f(pn)     f'(pn)  error\n",
      "---  -------  ------------  ---------  ----------------------\n",
      "  0  2.3      -0.141934     -0.456777  -\n",
      "  1  1.98927   0.584853     -3.47606   0.3107303643694024\n",
      "  2  2.15752   0.0684562    -2.3911    0.16825156704799737\n",
      "  3  2.18615   0.00467959   -2.05829   0.028629581539909132\n",
      "  4  2.18842   3.16875e-05  -2.03038   0.002273529926728024\n",
      "  5  2.18844   1.5006e-09   -2.03019   1.5606666240675082e-05\n"
     ]
    },
    {
     "data": {
      "text/plain": [
       "2.188439921550615"
      ]
     },
     "execution_count": 28,
     "metadata": {},
     "output_type": "execute_result"
    }
   ],
   "source": [
    "newton(f,2.3)"
   ]
  },
  {
   "cell_type": "code",
   "execution_count": 29,
   "metadata": {},
   "outputs": [
    {
     "name": "stdout",
     "output_type": "stream",
     "text": [
      "  n       pn         f(pn)    f'(pn)  error\n",
      "---  -------  ------------  --------  ----------------------\n",
      "  0  2.5       0.0772192     2.57608  -\n",
      "  1  2.47002   0.00610791    2.16385  0.029975415980954878\n",
      "  2  2.4672    5.66986e-05   2.12364  0.0028227010010546394\n",
      "  3  2.46718   5.09112e-09   2.12326  2.669872727656397e-05\n",
      "  4  2.46718  -1.11022e-16   2.12326  2.3977815288844795e-09\n"
     ]
    },
    {
     "data": {
      "text/plain": [
       "2.4671751818929324"
      ]
     },
     "execution_count": 29,
     "metadata": {},
     "output_type": "execute_result"
    }
   ],
   "source": [
    "newton(f,2.5)"
   ]
  },
  {
   "cell_type": "markdown",
   "metadata": {},
   "source": [
    "Análisis de la convergencia del método de Newton"
   ]
  },
  {
   "cell_type": "code",
   "execution_count": 30,
   "metadata": {},
   "outputs": [],
   "source": [
    "def g(t):\n",
    "    return abs((f(t)*d2f(t))/df(t)**2)"
   ]
  },
  {
   "cell_type": "code",
   "execution_count": 32,
   "metadata": {},
   "outputs": [
    {
     "data": {
      "text/plain": [
       "(0.3811934836978691,\n",
       " 6.780147775819205,\n",
       " 10.481868657044641,\n",
       " 0.15435372252138618)"
      ]
     },
     "execution_count": 32,
     "metadata": {},
     "output_type": "execute_result"
    }
   ],
   "source": [
    "g(1), g(1.5), g(2.3), g(2.5)"
   ]
  },
  {
   "cell_type": "markdown",
   "metadata": {},
   "source": [
    "MÉTODO DE LA SECANTE"
   ]
  },
  {
   "cell_type": "code",
   "execution_count": 33,
   "metadata": {},
   "outputs": [],
   "source": [
    "def f(x):\n",
    "    return 700*exp(x-0.01*x**4)"
   ]
  },
  {
   "cell_type": "code",
   "execution_count": 34,
   "metadata": {},
   "outputs": [],
   "source": [
    "def df(x):\n",
    "    return 700*exp(x-0.01*x**4)*(1-4*0.01*x**3)"
   ]
  },
  {
   "cell_type": "code",
   "execution_count": 35,
   "metadata": {},
   "outputs": [
    {
     "data": {
      "text/plain": [
       "(0.6643676021786104, 200.55335780213306)"
      ]
     },
     "execution_count": 35,
     "metadata": {},
     "output_type": "execute_result"
    }
   ],
   "source": [
    "f(6),f(5)"
   ]
  },
  {
   "cell_type": "code",
   "execution_count": 36,
   "metadata": {},
   "outputs": [],
   "source": [
    "iter=100\n",
    "tol=10**(-10)"
   ]
  },
  {
   "cell_type": "code",
   "execution_count": 37,
   "metadata": {},
   "outputs": [],
   "source": [
    "def secante(f,p0,p1):\n",
    "    lista=[]\n",
    "    p=[p0,p1]\n",
    "    for i in range(2,iter):\n",
    "        value=p[i-1]-(f(p[i-1])*(p[i-1]-p[i-2]))/(f(p[i-1])-f(p[i-2]))\n",
    "        p.append(value)\n",
    "        lista.append([i,p[i],p[i-1],p[i-2],f(p[i-1]),f(p[i-2])])\n",
    "        errorA=abs(p[i]-p[i-1])\n",
    "        if p[i]!=0:\n",
    "            errorB=abs(p[i]-p[i-1])/p[i]\n",
    "        errorC=abs(f(p[i]))\n",
    "        error=errorA\n",
    "        if error<tol:\n",
    "            n=i\n",
    "            break\n",
    "    print(tabulate(lista,headers=[\"i\",\"pn\",\"p(n-1)\",\"p(n-2)\",\"f(p(n-1))\",\"f(p(n-2))\"]))\n",
    "    print(\"\\nLa solución es \", p[n])"
   ]
  },
  {
   "cell_type": "code",
   "execution_count": 38,
   "metadata": {},
   "outputs": [
    {
     "name": "stdout",
     "output_type": "stream",
     "text": [
      "  i       pn    p(n-1)    p(n-2)        f(p(n-1))       f(p(n-2))\n",
      "---  -------  --------  --------  ---------------  --------------\n",
      "  2  1.74946   3         0         -500.372          700\n",
      "  3  2.81494   1.74946   3         2880.86          -500.372\n",
      "  4  3.13922   2.81494   1.74946    672.216         2880.86\n",
      "  5  2.91751   3.13922   2.81494  -1452.94           672.216\n",
      "  6  2.92371   2.91751   3.13922     41.7646       -1452.94\n",
      "  7  2.92402   2.92371   2.91751      1.98415         41.7646\n",
      "  8  2.92402   2.92402   2.92371     -0.00446537       1.98415\n",
      "  9  2.92402   2.92402   2.92402      4.71058e-07     -0.00446537\n",
      "\n",
      "La solución es  2.924017738212866\n"
     ]
    }
   ],
   "source": [
    "secante(df,0,3)"
   ]
  },
  {
   "cell_type": "markdown",
   "metadata": {},
   "source": [
    "ANÁLISIS DEL ORDEN DE CONVERGENCIA DE CUALQUIER MÉTODO"
   ]
  },
  {
   "cell_type": "code",
   "execution_count": 42,
   "metadata": {},
   "outputs": [],
   "source": [
    "def orden(ordenAlfa, plista, p, iter):\n",
    "    lista=[]\n",
    "    for i in range (iter-1):\n",
    "        if plista[i]==p:\n",
    "            break;\n",
    "        cte=abs(plista[i+1]-p)/(abs(plista[i]-p)**ordenAlfa)\n",
    "        lista.append([i,plista[i],plista[i+1],cte])\n",
    "    print(\"\\n\\n\",tabulate(lista, headers=[\"i\",\"pi\", \"p(i+1)\",\"lambda\"]))"
   ]
  },
  {
   "cell_type": "code",
   "execution_count": 43,
   "metadata": {},
   "outputs": [],
   "source": [
    "ordenAlfa=1 #vamos variando y analizando los resultados"
   ]
  },
  {
   "cell_type": "code",
   "execution_count": 50,
   "metadata": {},
   "outputs": [],
   "source": [
    "def f(t):\n",
    "    return log(t)+cos(4*t)\n",
    "\n",
    "def df(t):\n",
    "    return 1/t-4*sin(4*t)\n",
    "\n",
    "def d2f(t):\n",
    "    return -1/(t**2)-16*cos(4*t)"
   ]
  },
  {
   "cell_type": "code",
   "execution_count": 51,
   "metadata": {},
   "outputs": [
    {
     "name": "stdout",
     "output_type": "stream",
     "text": [
      "  n       pn         f(pn)    f'(pn)  error\n",
      "---  -------  ------------  --------  ----------------------\n",
      "  0  3         1.94247       2.47963  -\n",
      "  1  2.21663  -0.0521895    -1.66772  0.783370970699707\n",
      "  2  2.18534   0.00636276   -2.06825  0.03129402474436693\n",
      "  3  2.18841   5.79142e-05  -2.03054  0.003076392956238738\n",
      "  4  2.18844   5.01163e-09  -2.03019  2.8521569896078347e-05\n",
      "  5  2.18844   3.33067e-16  -2.03019  2.4685542499014446e-09\n"
     ]
    },
    {
     "data": {
      "text/plain": [
       "2.188439921550615"
      ]
     },
     "execution_count": 51,
     "metadata": {},
     "output_type": "execute_result"
    }
   ],
   "source": [
    "newton(f, 3)"
   ]
  },
  {
   "cell_type": "code",
   "execution_count": 52,
   "metadata": {},
   "outputs": [
    {
     "name": "stdout",
     "output_type": "stream",
     "text": [
      "  n       pn         f(pn)    f'(pn)  error\n",
      "---  -------  ------------  --------  ----------------------\n",
      "  0  3         1.94247       2.47963  -\n",
      "  1  2.21663  -0.0521895    -1.66772  0.783370970699707\n",
      "  2  2.18534   0.00636276   -2.06825  0.03129402474436693\n",
      "  3  2.18841   5.79142e-05  -2.03054  0.003076392956238738\n",
      "  4  2.18844   5.01163e-09  -2.03019  2.8521569896078347e-05\n",
      "  5  2.18844   3.33067e-16  -2.03019  2.4685542499014446e-09\n",
      "\n",
      "\n",
      "   i       pi    p(i+1)    lambda\n",
      "---  -------  --------  --------\n",
      "  0  0.5       1        0.416875\n",
      "  1  1         1.16231  0.726523\n",
      "  2  1.16231   1.14432  0.991616\n",
      "  3  1.14432   1.1443   0.957763\n",
      "  4  1.1443    1.5      0.63146\n",
      "  5  1.5       0.73465  3.06739\n",
      "  6  0.73465   3.05594  0.410454\n",
      "  7  3.05594   1.82381  0.48452\n",
      "  8  1.82381   2.22159  0.249315\n",
      "  9  2.22159   2.18393  4.10648\n",
      " 10  2.18393   2.18838  2.92536\n",
      " 11  2.18838   2.18844  3.03326\n",
      " 12  2.18844   2.18844  0\n"
     ]
    }
   ],
   "source": [
    "orden(2, listanewton, newton(f, 3), iter)"
   ]
  }
 ],
 "metadata": {
  "kernelspec": {
   "display_name": "Python 3",
   "language": "python",
   "name": "python3"
  },
  "language_info": {
   "codemirror_mode": {
    "name": "ipython",
    "version": 3
   },
   "file_extension": ".py",
   "mimetype": "text/x-python",
   "name": "python",
   "nbconvert_exporter": "python",
   "pygments_lexer": "ipython3",
   "version": "3.7.4"
  }
 },
 "nbformat": 4,
 "nbformat_minor": 2
}
