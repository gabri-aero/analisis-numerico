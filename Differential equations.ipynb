{
 "cells": [
  {
   "cell_type": "code",
   "execution_count": 1,
   "metadata": {},
   "outputs": [
    {
     "name": "stdout",
     "output_type": "stream",
     "text": [
      "Requirement already satisfied: tabulate in c:\\users\\gvall\\anaconda3\\lib\\site-packages (0.8.7)\n",
      "Note: you may need to restart the kernel to use updated packages.\n"
     ]
    }
   ],
   "source": [
    "pip install tabulate"
   ]
  },
  {
   "cell_type": "code",
   "execution_count": 2,
   "metadata": {},
   "outputs": [],
   "source": [
    "from tabulate import tabulate"
   ]
  },
  {
   "cell_type": "code",
   "execution_count": 3,
   "metadata": {},
   "outputs": [],
   "source": [
    "from math import pi, cos"
   ]
  },
  {
   "cell_type": "code",
   "execution_count": 4,
   "metadata": {},
   "outputs": [],
   "source": [
    "def f(x,y):\n",
    "    return -y+2*cos(x)"
   ]
  },
  {
   "cell_type": "code",
   "execution_count": 5,
   "metadata": {},
   "outputs": [],
   "source": [
    "def euler(f,a,b,N,alfa):\n",
    "    w=[0 for i in range(N+1)]\n",
    "    t=[0 for i in range(N+1)]\n",
    "    h=(b-a)/N;\n",
    "    datos=[]\n",
    "    for i in range(N+1):\n",
    "        t[i]=a+h*i\n",
    "    w[0]=alfa;\n",
    "    for i in range(0,N):\n",
    "        w[i+1]=w[i]+h*f(t[i],w[i])\n",
    "    for i in range(0,N+1):\n",
    "        datos.append([t[i],w[i]])\n",
    "    print(tabulate(datos,headers=[\"t\",\"w\"],floatfmt=\".8f\"))"
   ]
  },
  {
   "cell_type": "code",
   "execution_count": 6,
   "metadata": {},
   "outputs": [
    {
     "name": "stdout",
     "output_type": "stream",
     "text": [
      "          t           w\n",
      "-----------  ----------\n",
      "-1.00000000  3.00000000\n",
      "-0.90000000  2.80806046\n",
      "-0.80000000  2.65157641\n"
     ]
    }
   ],
   "source": [
    "euler(f,-1,-0.8,2,3)"
   ]
  },
  {
   "cell_type": "code",
   "execution_count": 7,
   "metadata": {},
   "outputs": [],
   "source": [
    "def puntomedio(f,a,b,N,alfa):\n",
    "    w=[0 for i in range(N+1)]\n",
    "    t=[0 for i in range(N+1)]\n",
    "    h=(b-a)/N;\n",
    "    datos=[]\n",
    "    for i in range(N+1):\n",
    "        t[i]=a+h*i\n",
    "    w[0]=alfa;\n",
    "    for i in range(0,N):\n",
    "        w[i+1]=w[i]+h*f(t[i]+h/2,w[i]+(h/2)*f(t[i],w[i]))\n",
    "    for i in range(0,N+1):\n",
    "        datos.append([t[i],w[i]])\n",
    "    print(tabulate(datos,headers=[\"t\",\"w\"]))"
   ]
  },
  {
   "cell_type": "code",
   "execution_count": 8,
   "metadata": {},
   "outputs": [
    {
     "name": "stdout",
     "output_type": "stream",
     "text": [
      "   t            w\n",
      "----  -----------\n",
      " 0     1\n",
      " 0.1   1.09475\n",
      " 0.2   1.17855\n",
      " 0.3   1.25057\n",
      " 0.4   1.31009\n",
      " 0.5   1.35651\n",
      " 0.6   1.38937\n",
      " 0.7   1.40834\n",
      " 0.8   1.41324\n",
      " 0.9   1.40401\n",
      " 1     1.38075\n",
      " 1.1   1.34369\n",
      " 1.2   1.2932\n",
      " 1.3   1.22979\n",
      " 1.4   1.15409\n",
      " 1.5   1.06685\n",
      " 1.6   0.968949\n",
      " 1.7   0.861367\n",
      " 1.8   0.745176\n",
      " 1.9   0.621538\n",
      " 2     0.491689\n",
      " 2.1   0.356925\n",
      " 2.2   0.218594\n",
      " 2.3   0.0780782\n",
      " 2.4  -0.0632191\n",
      " 2.5  -0.203886\n",
      " 2.6  -0.342516\n",
      " 2.7  -0.477724\n",
      " 2.8  -0.60816\n",
      " 2.9  -0.73252\n",
      " 3    -0.849562\n",
      " 3.1  -0.958115\n",
      " 3.2  -1.0571\n",
      " 3.3  -1.14551\n",
      " 3.4  -1.22249\n",
      " 3.5  -1.28725\n",
      " 3.6  -1.33915\n",
      " 3.7  -1.37766\n",
      " 3.8  -1.40242\n",
      " 3.9  -1.41316\n",
      " 4    -1.40978\n",
      " 4.1  -1.39231\n",
      " 4.2  -1.36094\n",
      " 4.3  -1.31596\n",
      " 4.4  -1.25784\n",
      " 4.5  -1.18715\n",
      " 4.6  -1.1046\n",
      " 4.7  -1.01101\n",
      " 4.8  -0.907319\n",
      " 4.9  -0.794563\n",
      " 5    -0.673868\n",
      " 5.1  -0.546441\n",
      " 5.2  -0.413553\n",
      " 5.3  -0.276534\n",
      " 5.4  -0.136751\n",
      " 5.5   0.00439748\n",
      " 5.6   0.145502\n",
      " 5.7   0.285153\n",
      " 5.8   0.421955\n",
      " 5.9   0.554541\n",
      " 6     0.681586\n",
      " 6.1   0.80182\n",
      " 6.2   0.914044\n",
      " 6.3   1.01713\n",
      " 6.4   1.11006\n",
      " 6.5   1.1919\n",
      " 6.6   1.26182\n",
      " 6.7   1.31914\n",
      " 6.8   1.36328\n",
      " 6.9   1.3938\n",
      " 7     1.41039\n",
      " 7.1   1.41289\n",
      " 7.2   1.40127\n",
      " 7.3   1.37565\n",
      " 7.4   1.33629\n",
      " 7.5   1.28357\n",
      " 7.6   1.21803\n",
      " 7.7   1.14032\n",
      " 7.8   1.05121\n",
      " 7.9   0.951605\n",
      " 8     0.842488\n",
      " 8.1   0.724954\n",
      " 8.2   0.600176\n",
      " 8.3   0.469401\n",
      " 8.4   0.333936\n",
      " 8.5   0.195135\n",
      " 8.6   0.0543835\n",
      " 8.7  -0.086911\n",
      " 8.8  -0.227337\n",
      " 8.9  -0.365492\n",
      " 9    -0.499995\n",
      " 9.1  -0.629502\n",
      " 9.2  -0.752719\n",
      " 9.3  -0.868415\n",
      " 9.4  -0.975434\n",
      " 9.5  -1.07271\n",
      " 9.6  -1.15926\n",
      " 9.7  -1.23423\n",
      " 9.8  -1.29687\n",
      " 9.9  -1.34656\n",
      "10    -1.38278\n"
     ]
    }
   ],
   "source": [
    "puntomedio(f,0,10,100,1)"
   ]
  },
  {
   "cell_type": "code",
   "execution_count": 9,
   "metadata": {},
   "outputs": [],
   "source": [
    "def eulermod(f,a,b,N,alfa):\n",
    "    w=[0 for i in range(N+1)]\n",
    "    t=[0 for i in range(N+1)]\n",
    "    h=(b-a)/N;\n",
    "    datos=[]\n",
    "    for i in range(N+1):\n",
    "        t[i]=a+h*i\n",
    "    w[0]=alfa;\n",
    "    for i in range(0,N):\n",
    "        w[i+1]=w[i]+(h/2)*(f(t[i],w[i])+f(t[i+1],w[i]+h*f(t[i],w[i])))\n",
    "    for i in range(0,N+1):\n",
    "        datos.append([t[i],w[i]])\n",
    "    print(tabulate(datos,headers=[\"t\",\"w\"]))"
   ]
  },
  {
   "cell_type": "code",
   "execution_count": 10,
   "metadata": {},
   "outputs": [
    {
     "name": "stdout",
     "output_type": "stream",
     "text": [
      "  t         w\n",
      "---  --------\n",
      "0    0.5\n",
      "0.2  0.766013\n",
      "0.4  0.969154\n",
      "0.6  1.10714\n",
      "0.8  1.17925\n",
      "1    1.18652\n",
      "1.2  1.13187\n",
      "1.4  1.0201\n",
      "1.6  0.857838\n",
      "1.8  0.653315\n",
      "2    0.416136\n"
     ]
    }
   ],
   "source": [
    "eulermod(f,0,2,10,0.5)"
   ]
  },
  {
   "cell_type": "markdown",
   "metadata": {},
   "source": [
    "### Método de Heun"
   ]
  },
  {
   "cell_type": "code",
   "execution_count": 11,
   "metadata": {},
   "outputs": [],
   "source": [
    "def heun(f,a,b,N,alfa):\n",
    "    w=[0 for i in range(N+1)]\n",
    "    t=[0 for i in range(N+1)]\n",
    "    h=(b-a)/N;\n",
    "    datos=[]\n",
    "    for i in range(N+1):\n",
    "        t[i]=a+h*i\n",
    "    w[0]=alfa;\n",
    "    for i in range(0,N):\n",
    "        w[i+1]=w[i]+(h/4)*(f(t[i],w[i]+3*(f(t[i]+(2*h/3),w[i]+(2*h/3)*f(t[i]+h/3,w[i]+(h/3)*f(t[i],w[i]))))))\n",
    "    for i in range(0,N+1):\n",
    "        datos.append([t[i],w[i]])\n",
    "    print(tabulate(datos,headers=[\"t\",\"w\"]))"
   ]
  },
  {
   "cell_type": "code",
   "execution_count": 12,
   "metadata": {},
   "outputs": [
    {
     "name": "stdout",
     "output_type": "stream",
     "text": [
      "  t           w\n",
      "---  ----------\n",
      "0     0.5\n",
      "0.2   0.380574\n",
      "0.4   0.262019\n",
      "0.6   0.150368\n",
      "0.8   0.051482\n",
      "1    -0.0291708\n",
      "1.2  -0.0867249\n",
      "1.4  -0.117102\n",
      "1.6  -0.117161\n",
      "1.8  -0.0848147\n",
      "2    -0.019096\n"
     ]
    }
   ],
   "source": [
    "heun(f,0,2,10,0.5)"
   ]
  },
  {
   "cell_type": "markdown",
   "metadata": {},
   "source": [
    "### Método de Runge-Kutta de orden 2"
   ]
  },
  {
   "cell_type": "code",
   "execution_count": 13,
   "metadata": {},
   "outputs": [],
   "source": [
    "def rungekutta2(f,a,b,N,alfa):\n",
    "    x=[0 for i in range(N+1)]\n",
    "    y=[0 for i in range(N+1)]\n",
    "    h=(b-a)/N;\n",
    "    datos=[]\n",
    "    for i in range(N+1):\n",
    "        x[i]=a+h*i\n",
    "    y[0]=alfa;\n",
    "    for i in range(0,N):\n",
    "        y[i+1]=y[i]+(h/2)*(f(x[i],y[i])+f(x[i]+h,y[i]+h*f(x[i],y[i])))\n",
    "    for i in range(0,N+1):\n",
    "        datos.append([x[i],y[i]])\n",
    "    print(tabulate(datos,headers=[\"x\",\"y\"]))"
   ]
  },
  {
   "cell_type": "code",
   "execution_count": 14,
   "metadata": {},
   "outputs": [],
   "source": [
    "def f(x,y):\n",
    "    return(y*0.25*(y-5)*(1-y/50))"
   ]
  },
  {
   "cell_type": "code",
   "execution_count": 15,
   "metadata": {},
   "outputs": [
    {
     "name": "stdout",
     "output_type": "stream",
     "text": [
      "   x        y\n",
      "----  -------\n",
      "0     20\n",
      "0.05  22.4563\n",
      "0.1   25.3806\n",
      "0.15  28.776\n",
      "0.2   32.5443\n",
      "0.25  36.4417\n",
      "0.3   40.1063\n",
      "0.35  43.1955\n",
      "0.4   45.5414\n",
      "0.45  47.1789\n",
      "0.5   48.2558\n"
     ]
    }
   ],
   "source": [
    "rungekutta2(f,0,0.5,10,20)"
   ]
  },
  {
   "cell_type": "markdown",
   "metadata": {},
   "source": [
    "### Método de Runge-Kutta de orden 4"
   ]
  },
  {
   "cell_type": "code",
   "execution_count": 16,
   "metadata": {},
   "outputs": [],
   "source": [
    "def rungekutta4(f,a,b,N,alfa):\n",
    "    w=[0 for i in range(N+1)]\n",
    "    t=[0 for i in range(N+1)]\n",
    "    h=(b-a)/N;\n",
    "    datos=[]\n",
    "    for i in range(N+1):\n",
    "        t[i]=a+h*i\n",
    "    w[0]=alfa;\n",
    "    for i in range(0,N):\n",
    "        k1=h*f(t[i],w[i])\n",
    "        k2=h*f(t[i]+h/2,w[i]+k1/2)\n",
    "        k3=h*f(t[i]+h/2,w[i]+k2/2)\n",
    "        k4=h*f(t[i+1],w[i]+k3)\n",
    "        w[i+1]=w[i]+(1/6)*(k1+2*k2+2*k3+k4)\n",
    "    for i in range(0,N+1):\n",
    "        datos.append([t[i],w[i]])\n",
    "    print(tabulate(datos,headers=[\"t\",\"w\"]))"
   ]
  },
  {
   "cell_type": "code",
   "execution_count": 17,
   "metadata": {},
   "outputs": [
    {
     "name": "stdout",
     "output_type": "stream",
     "text": [
      "  t          w\n",
      "---  ---------\n",
      "0    0.5\n",
      "0.2  0.399032\n",
      "0.4  0.316882\n",
      "0.6  0.250634\n",
      "0.8  0.197596\n",
      "1    0.155378\n",
      "1.2  0.121929\n",
      "1.4  0.0955252\n",
      "1.6  0.0747427\n",
      "1.8  0.0584224\n",
      "2    0.0456295\n"
     ]
    }
   ],
   "source": [
    "rungekutta4(f,0,2,10,0.5)"
   ]
  },
  {
   "cell_type": "markdown",
   "metadata": {},
   "source": [
    "### Runge-Kutta de orden 4 para sistemas"
   ]
  },
  {
   "cell_type": "code",
   "execution_count": 18,
   "metadata": {},
   "outputs": [],
   "source": [
    "def RK4sistemas3D(F,a,h,alfa,t0):\n",
    "    w=[[0 for j in range(2)] for i in range(3)]\n",
    "    k=[[0 for j in range(3)] for i in range(4)]\n",
    "    t=a\n",
    "    for i in range(3):\n",
    "        w[i][0]=alfa[i]\n",
    "    for i in range(3):\n",
    "        k[0][i]=h*F(t0,w[0][0],w[1][0],w[2][0])[i]\n",
    "    for i in range(1,3):\n",
    "        for j in range(3):\n",
    "            k[i][j]=h*F(t0+h/2,w[0][0]+k[i-1][0]/2,w[1][0]+k[i-1][1]/2,w[2][0]+k[i-1][2]/2)[j]\n",
    "    for i in range(3):\n",
    "        k[3][i]=h*F(t0,k[2][0],k[2][1],k[2][2])[i]\n",
    "    for j in range(3):\n",
    "        w[j][1]=w[j][0]+(1/6)*(k[0][j]+2*k[1][j]+2*k[2][j]+k[3][j])\n",
    "    print('Valores de k: \\n', tabulate(k))\n",
    "    print('\\nw0: ', w[0][1], '\\nw1: ',w[1][1], '\\nw2: ',w[2][1])"
   ]
  },
  {
   "cell_type": "code",
   "execution_count": 19,
   "metadata": {},
   "outputs": [],
   "source": [
    "def F(x,y,z,w):\n",
    "    return [z,3+5*x**2-y-x*z,0]"
   ]
  },
  {
   "cell_type": "code",
   "execution_count": 20,
   "metadata": {},
   "outputs": [],
   "source": [
    "def G(t,I1,I2,I3):\n",
    "    return [-4*I1+3*I2+6,-2.4*I1+1.6*I2+3.6,0]"
   ]
  },
  {
   "cell_type": "code",
   "execution_count": 21,
   "metadata": {},
   "outputs": [
    {
     "name": "stdout",
     "output_type": "stream",
     "text": [
      "Valores de k: \n",
      " --------  --------  -\n",
      "0.5       0.28      0\n",
      "0.442     0.2424    0\n",
      "0.44796   0.246352  0\n",
      "0.494722  0.291906  0\n",
      "--------  --------  -\n",
      "\n",
      "w0:  1.4624402666666665 \n",
      "w1:  1.2582349866666667 \n",
      "w2:  0.0\n"
     ]
    }
   ],
   "source": [
    "RK4sistemas3D(G,0,0.1,[1,1,0],0)"
   ]
  },
  {
   "cell_type": "code",
   "execution_count": 22,
   "metadata": {},
   "outputs": [
    {
     "data": {
      "text/plain": [
       "0.48009120000000005"
      ]
     },
     "execution_count": 22,
     "metadata": {},
     "output_type": "execute_result"
    }
   ],
   "source": [
    "0.1*G(0.1,0.54072,0.321264,0)[0]"
   ]
  },
  {
   "cell_type": "code",
   "execution_count": 23,
   "metadata": {},
   "outputs": [],
   "source": [
    "def RK4sistemas2D(F,a,h,alfa,t0, N):\n",
    "    w=[[0 for j in range(2)] for i in range(N+1)]\n",
    "    k=[[0 for j in range(2)] for i in range(4*N)]\n",
    "    t=a\n",
    "    \n",
    "    for i in range(2):\n",
    "        w[0][i]=alfa[i]\n",
    "    for n in range(N):\n",
    "        for i in range(2):\n",
    "            k[4*n][i]=h*F(t0+n*h,w[n][0],w[n][1])[i]\n",
    "        for i in range(1,3):\n",
    "            for j in range(2):\n",
    "                k[4*n+i][j]=h*F(t0+n*h+h/2,w[n][0]+k[4*n+i-1][0]/2,w[n][1]+k[4*n+i-1][1]/2)[j]\n",
    "        for i in range(2):\n",
    "            k[4*n+3][i]=h*F(t0+n*h+h,w[n][0]+k[4*n+2][0],w[n][1]+k[4*n+2][1])[i]\n",
    "        for j in range(2):\n",
    "            w[n+1][j]=w[n][j]+(1/6)*(k[4*n][j]+2*k[4*n+1][j]+2*k[4*n+2][j]+k[4*n+3][j])\n",
    "        print(n+1, '. Valores de k')\n",
    "        for i in range(n*4,(n+1)*4):\n",
    "            print(k[i])\n",
    "        print(\"\\n\")\n",
    "    print(tabulate(w, floatfmt=\".6f\", headers=['w0', 'w1']))"
   ]
  },
  {
   "cell_type": "code",
   "execution_count": 24,
   "metadata": {},
   "outputs": [],
   "source": [
    "def F(x,y,z):\n",
    "    return([z,3+5*x**2-y-x*z])"
   ]
  },
  {
   "cell_type": "code",
   "execution_count": 25,
   "metadata": {},
   "outputs": [
    {
     "name": "stdout",
     "output_type": "stream",
     "text": [
      "1 . Valores de k\n",
      "[0.0, 0.2]\n",
      "[0.010000000000000002, 0.20075000000000004]\n",
      "[0.010037500000000003, 0.20024812500000003]\n",
      "[0.020024812500000003, 0.20199376874999997]\n",
      "\n",
      "\n",
      "2 . Valores de k\n",
      "[0.020066500312500003, 0.20199168642708334]\n",
      "[0.03016608463385417, 0.20472009874763022]\n",
      "[0.03030250524988151, 0.2041946564391584]\n",
      "[0.04048596595641585, 0.20787089274206205]\n",
      "\n",
      "\n",
      "3 . Valores de k\n",
      "[0.04052803513821204, 0.20786790199675115]\n",
      "[0.050921430238049604, 0.21246674970797055]\n",
      "[0.05115137262361057, 0.2118895943565885]\n",
      "[0.0617169945738709, 0.21734327338987125]\n",
      "\n",
      "\n",
      "4 . Valores de k\n",
      "[0.061760099530141055, 0.2173389685747612]\n",
      "[0.07262704795887912, 0.22360952667168876]\n",
      "[0.07294057586372549, 0.22295644448355564]\n",
      "[0.08405574397849663, 0.2299506432560323]\n",
      "\n",
      "\n",
      "5 . Valores de k\n",
      "[0.0841004587658291, 0.22994429674157446]\n",
      "[0.09559767360290782, 0.2376105041883061]\n",
      "[0.0959809839752444, 0.2368631537789007]\n",
      "[0.10778677414371916, 0.24509299477852206]\n",
      "\n",
      "\n",
      "6 . Valores de k\n",
      "[0.10783353555673761, 0.24508363666843974]\n",
      "[0.12008771739015961, 0.25381048310438387]\n",
      "[0.12052405971195679, 0.2529577857357243]\n",
      "[0.13312931413031004, 0.2620704099974268]\n",
      "\n",
      "\n",
      "7 . Valores de k\n",
      "[0.1331783786291723, 0.2620569372044505]\n",
      "[0.14628122548939482, 0.2714722488823886]\n",
      "[0.14675199107329173, 0.27051110890984453]\n",
      "[0.16022948952015678, 0.280128122610515]\n",
      "\n",
      "\n",
      "8 . Valores de k\n",
      "[0.16028090821916285, 0.2801094236072949]\n",
      "[0.1742863793995276, 0.28982722940010497]\n",
      "[0.1747722696891681, 0.2887625381238564]\n",
      "[0.18915716203154848, 0.2985031027665533]\n",
      "\n",
      "\n",
      "9 . Valores de k\n",
      "[0.18921077590952567, 0.29847818249262]\n",
      "[0.2041346850341567, 0.308121782145731]\n",
      "[0.20461686501681223, 0.3069657337042422]\n",
      "[0.2199073492799499, 0.31646850236660434]\n",
      "\n",
      "\n",
      "10 . Valores de k\n",
      "[0.2199628045188452, 0.3164365920650896]\n",
      "[0.23578463412209968, 0.3256595734901132]\n",
      "[0.23624578319335085, 0.32443039039226185]\n",
      "[0.2524058435580714, 0.3333726942546437]\n",
      "\n",
      "\n",
      "      w0        w1\n",
      "--------  --------\n",
      "1.000000  0.000000\n",
      "1.010017  0.200665\n",
      "1.040265  0.405280\n",
      "1.091330  0.617601\n",
      "1.164155  0.841005\n",
      "1.259996  1.078335\n",
      "1.380360  1.331784\n",
      "1.526939  1.602809\n",
      "1.701532  1.892108\n",
      "1.905969  2.199628\n",
      "2.142040  2.524626\n"
     ]
    }
   ],
   "source": [
    "RK4sistemas2D(F,0,0.1,[1,0],0,10)"
   ]
  }
 ],
 "metadata": {
  "kernelspec": {
   "display_name": "Python 3",
   "language": "python",
   "name": "python3"
  },
  "language_info": {
   "codemirror_mode": {
    "name": "ipython",
    "version": 3
   },
   "file_extension": ".py",
   "mimetype": "text/x-python",
   "name": "python",
   "nbconvert_exporter": "python",
   "pygments_lexer": "ipython3",
   "version": "3.7.4"
  }
 },
 "nbformat": 4,
 "nbformat_minor": 2
}
