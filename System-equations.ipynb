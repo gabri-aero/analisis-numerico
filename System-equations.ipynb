{
 "cells": [
  {
   "cell_type": "markdown",
   "metadata": {},
   "source": [
    "# MÉTODOS DE RESOLUCIÓN DE SISTEMAS DE ECUACIONES"
   ]
  },
  {
   "cell_type": "code",
   "execution_count": 8,
   "metadata": {},
   "outputs": [
    {
     "name": "stdout",
     "output_type": "stream",
     "text": [
      "Requirement already satisfied: tabulate in c:\\users\\gvall\\anaconda3\\lib\\site-packages (0.8.7)\n",
      "Note: you may need to restart the kernel to use updated packages.\n"
     ]
    }
   ],
   "source": [
    "pip install tabulate"
   ]
  },
  {
   "cell_type": "code",
   "execution_count": 9,
   "metadata": {},
   "outputs": [],
   "source": [
    "from tabulate import tabulate"
   ]
  },
  {
   "cell_type": "code",
   "execution_count": 10,
   "metadata": {},
   "outputs": [],
   "source": [
    "from math import sqrt"
   ]
  },
  {
   "cell_type": "code",
   "execution_count": 11,
   "metadata": {},
   "outputs": [
    {
     "data": {
      "text/plain": [
       "[[4, 1, 1], [1, 4, -2], [3, 2, -4]]"
      ]
     },
     "execution_count": 11,
     "metadata": {},
     "output_type": "execute_result"
    }
   ],
   "source": [
    "# Introducir matriz de coeficientes\n",
    "A=[[4,1,1],[1,4,-2],[3,2,-4]]\n",
    "A"
   ]
  },
  {
   "cell_type": "code",
   "execution_count": 12,
   "metadata": {},
   "outputs": [
    {
     "data": {
      "text/plain": [
       "[4, 4, 6]"
      ]
     },
     "execution_count": 12,
     "metadata": {},
     "output_type": "execute_result"
    }
   ],
   "source": [
    "# Introducir matriz de coeficientes independientes\n",
    "b=[4,4,6]\n",
    "b"
   ]
  },
  {
   "cell_type": "code",
   "execution_count": 13,
   "metadata": {},
   "outputs": [],
   "source": [
    "#Dimensión de la matri\n",
    "n=3"
   ]
  },
  {
   "cell_type": "markdown",
   "metadata": {},
   "source": [
    "### FACTORIZACIÓN DE CROUT A=LU"
   ]
  },
  {
   "cell_type": "code",
   "execution_count": 14,
   "metadata": {},
   "outputs": [],
   "source": [
    "def sumatorioprodA(list1,list2,i,k):\n",
    "    total=0\n",
    "    for p in range (k):\n",
    "        t=total\n",
    "        total=t+list1[i][p]*list2[p][k]\n",
    "    return total"
   ]
  },
  {
   "cell_type": "code",
   "execution_count": 15,
   "metadata": {},
   "outputs": [],
   "source": [
    "def sumatorioprodB(list1,list2,i,k):\n",
    "    total=0\n",
    "    for p in range (i):\n",
    "        t=total\n",
    "        total=t+list1[k][p]*list2[p][i]\n",
    "    return total"
   ]
  },
  {
   "cell_type": "code",
   "execution_count": 16,
   "metadata": {},
   "outputs": [],
   "source": [
    "def crout(matrix, n):\n",
    "    coste=0\n",
    "    U=[[0 for j in range(n)] for i in range(n)]\n",
    "    L=[[0 for j in range(n)] for i in range(n)]\n",
    "    for i in range(n):\n",
    "        L[i][0]=matrix[i][0]\n",
    "    for i in range(n):\n",
    "        U[0][i]=matrix[0][i]/L[0][0];coste=coste+1\n",
    "        \n",
    "    for i in range(1,n):\n",
    "        for k in range(1,n):    \n",
    "            if (i)==(k):\n",
    "                U[i][k]=1    \n",
    "    \n",
    "    for i in range(1,n):\n",
    "        for k in range(i,n):\n",
    "            L[k][i]=matrix[k][i]-sumatorioprodA(L,U,k,i)\n",
    "            coste=coste+2*i+1 #2i operaciones del sumatorio\n",
    "        for k in range(i,n):\n",
    "            if (i)!=(k):\n",
    "                U[i][k]=(matrix[i][k]-sumatorioprodB(L,U,k,i))/L[i][i]\n",
    "                coste=coste+2*k+2 #2k operaciones del sumatorio\n",
    "    print(tabulate(L))\n",
    "    print(tabulate(U))\n",
    "    return L,U,coste"
   ]
  },
  {
   "cell_type": "code",
   "execution_count": 17,
   "metadata": {},
   "outputs": [
    {
     "name": "stdout",
     "output_type": "stream",
     "text": [
      "-  ----  --\n",
      "4  0      0\n",
      "1  3.75   0\n",
      "3  1.25  -4\n",
      "-  ----  --\n",
      "-  ----  -----\n",
      "1  0.25   0.25\n",
      "0  1     -0.6\n",
      "0  0      1\n",
      "-  ----  -----\n"
     ]
    }
   ],
   "source": [
    "L,U,costeB=crout(A,n)"
   ]
  },
  {
   "cell_type": "markdown",
   "metadata": {},
   "source": [
    "**Obtención del vector y=Ux**"
   ]
  },
  {
   "cell_type": "code",
   "execution_count": 10,
   "metadata": {},
   "outputs": [],
   "source": [
    "def sumatorioy(L,y,i):\n",
    "    total=0\n",
    "    for j in range (i):\n",
    "        total=total+L[i][j]*y[j]\n",
    "    return total"
   ]
  },
  {
   "cell_type": "code",
   "execution_count": 11,
   "metadata": {},
   "outputs": [],
   "source": [
    "def vecty(L,b,n,coste):\n",
    "    y=[0 for j in range(n)]\n",
    "    for i in range (n):\n",
    "        y[i]=(b[i]-sumatorioy(L,y,i))/L[i][i]\n",
    "        coste=coste+2+2*i #2i operaciones en el sumatorio\n",
    "    return y,coste"
   ]
  },
  {
   "cell_type": "code",
   "execution_count": 12,
   "metadata": {},
   "outputs": [
    {
     "data": {
      "text/plain": [
       "(32, [1.0, 0.8, -0.5])"
      ]
     },
     "execution_count": 12,
     "metadata": {},
     "output_type": "execute_result"
    }
   ],
   "source": [
    "y,costeB=vecty(L,b,n,costeB);(costeB,y)"
   ]
  },
  {
   "cell_type": "markdown",
   "metadata": {},
   "source": [
    "**Obtención del vector x**"
   ]
  },
  {
   "cell_type": "code",
   "execution_count": 13,
   "metadata": {},
   "outputs": [],
   "source": [
    "def vectx(U,y,n,coste):\n",
    "    x=[0 for j in range(n)]\n",
    "    for i in range (n):\n",
    "        k=n-1-i\n",
    "        x[k]=y[k]-sumatoriox(U,x,k,n)\n",
    "        coste=coste+1+2*(n-k-1) #2(n-k-1)operaciones sumatorio\n",
    "    return x,coste"
   ]
  },
  {
   "cell_type": "code",
   "execution_count": 14,
   "metadata": {},
   "outputs": [],
   "source": [
    "def sumatoriox(U,x,k,n):\n",
    "    total=0\n",
    "    for h in range(n-k-1):\n",
    "        j=n-h-1\n",
    "        total=total+U[k][j]*x[j]\n",
    "    return total"
   ]
  },
  {
   "cell_type": "code",
   "execution_count": 16,
   "metadata": {},
   "outputs": [
    {
     "data": {
      "text/plain": [
       "[1.0, 0.5, -0.5]"
      ]
     },
     "execution_count": 16,
     "metadata": {},
     "output_type": "execute_result"
    }
   ],
   "source": [
    "x,costeB=vectx(U,y,n,costeB);x"
   ]
  },
  {
   "cell_type": "markdown",
   "metadata": {},
   "source": [
    "**Cálculo del determinante**"
   ]
  },
  {
   "cell_type": "code",
   "execution_count": 17,
   "metadata": {},
   "outputs": [
    {
     "name": "stdout",
     "output_type": "stream",
     "text": [
      "264.0\n"
     ]
    }
   ],
   "source": [
    "det=1\n",
    "for i in range(n):\n",
    "    det=det*L[i][i]\n",
    "print(det)"
   ]
  },
  {
   "cell_type": "markdown",
   "metadata": {},
   "source": [
    "**Coste computacional**"
   ]
  },
  {
   "cell_type": "code",
   "execution_count": 18,
   "metadata": {},
   "outputs": [
    {
     "data": {
      "text/plain": [
       "88"
      ]
     },
     "execution_count": 18,
     "metadata": {},
     "output_type": "execute_result"
    }
   ],
   "source": [
    "costeB"
   ]
  },
  {
   "cell_type": "markdown",
   "metadata": {},
   "source": [
    "### FACTORIZACIÓN DE CROUT - Matrices tridiagonales"
   ]
  },
  {
   "cell_type": "code",
   "execution_count": 19,
   "metadata": {},
   "outputs": [
    {
     "data": {
      "text/plain": [
       "[[10, 5, 0, 0, 0, 0, 0],\n",
       " [-1, 1, 1, 0, 0, 0, 0],\n",
       " [0, -5, 3, -5, 0, 0, 0],\n",
       " [0, 0, 1, 1, -1, 0, 0],\n",
       " [0, 0, 0, 5, 1, 5, 0],\n",
       " [0, 0, 0, 0, -1, 1, 1],\n",
       " [0, 0, 0, 0, 0, -5, 10]]"
      ]
     },
     "execution_count": 19,
     "metadata": {},
     "output_type": "execute_result"
    }
   ],
   "source": [
    "Ap=[[10,5,0,0,0,0,0],[-1,1,1,0,0,0,0],[0,-5,3,-5,0,0,0],[0,0,1,1,-1,0,0],[0,0,0,5,1,5,0],[0,0,0,0,-1,1,1],[0,0,0,0,0,-5,10]]\n",
    "Ap"
   ]
  },
  {
   "cell_type": "code",
   "execution_count": 20,
   "metadata": {},
   "outputs": [
    {
     "data": {
      "text/plain": [
       "[10, 0, -10, 0, 5, 0, -10]"
      ]
     },
     "execution_count": 20,
     "metadata": {},
     "output_type": "execute_result"
    }
   ],
   "source": [
    "bp=[10,0,-10,0,5,0,-10];bp"
   ]
  },
  {
   "cell_type": "code",
   "execution_count": 21,
   "metadata": {},
   "outputs": [],
   "source": [
    "def croutTridiag(matrix, n):\n",
    "    coste=0\n",
    "    U=[[0 for j in range(n)] for i in range(n)]\n",
    "    L=[[0 for j in range(n)] for i in range(n)]\n",
    "    L[0][0]=matrix[0][0]\n",
    "    U[0][1]=matrix[0][1]/L[0][0];coste=coste+1\n",
    "    for i in range(n):\n",
    "        U[i][i]=1\n",
    "    for i in range(1,n-1):\n",
    "        L[i][i-1]=matrix[i][i-1]\n",
    "        L[i][i]=matrix[i][i]-L[i][i-1]*U[i-1][i];coste=coste+2\n",
    "        U[i][i+1]=matrix[i][i+1]/L[i][i];coste=coste+1\n",
    "    L[n-1][n-2]=matrix[n-1][n-2]\n",
    "    L[n-1][n-1]=matrix[n-1][n-1]-L[n-1][n-2]*U[n-2][n-1];coste=coste+2\n",
    "    print(tabulate(L))\n",
    "    print(tabulate(U))\n",
    "    return L,U,coste"
   ]
  },
  {
   "cell_type": "code",
   "execution_count": 22,
   "metadata": {},
   "outputs": [],
   "source": [
    "def sustAdelTridiag(n, L, b,coste):\n",
    "    y=[0 for j in range(n)]\n",
    "    y[0]=b[0]/L[0][0];coste=coste+1\n",
    "    for i in range(1,n):\n",
    "        y[i]=(b[i]-L[i][i-1]*y[i-1])/L[i][i];coste=coste+3\n",
    "    return y,coste"
   ]
  },
  {
   "cell_type": "code",
   "execution_count": 23,
   "metadata": {},
   "outputs": [],
   "source": [
    "def sustAtrasCrout(n,U,y,coste): #U tiene 1s en su diagonal-reducimos el coste computacional\n",
    "    x=[0 for j in range(n)]\n",
    "    x[n-1]=y[n-1]\n",
    "    for i in range(1,n):\n",
    "        x[n-i-1]=(y[n-i-1]-U[n-i-1][n-i]*x[n-i]);coste=coste+2\n",
    "    return x,coste"
   ]
  },
  {
   "cell_type": "code",
   "execution_count": 24,
   "metadata": {},
   "outputs": [
    {
     "name": "stdout",
     "output_type": "stream",
     "text": [
      "--  ----  -------  -------  --------  --------  -------\n",
      "10   0    0        0         0         0         0\n",
      "-1   1.5  0        0         0         0         0\n",
      " 0  -5    6.33333  0         0         0         0\n",
      " 0   0    1        1.78947   0         0         0\n",
      " 0   0    0        5         3.79412   0         0\n",
      " 0   0    0        0        -1         2.31783   0\n",
      " 0   0    0        0         0        -5        12.1572\n",
      "--  ----  -------  -------  --------  --------  -------\n",
      "-  ---  --------  ---------  ---------  -------  --------\n",
      "1  0.5  0          0          0         0        0\n",
      "0  1    0.666667   0          0         0        0\n",
      "0  0    1         -0.789474   0         0        0\n",
      "0  0    0          1         -0.558824  0        0\n",
      "0  0    0          0          1         1.31783  0\n",
      "0  0    0          0          0         1        0.431438\n",
      "0  0    0          0          0         0        1\n",
      "-  ---  --------  ---------  ---------  -------  --------\n"
     ]
    }
   ],
   "source": [
    "Lp,Up,coste=croutTridiag(Ap,7)"
   ]
  },
  {
   "cell_type": "code",
   "execution_count": 25,
   "metadata": {},
   "outputs": [
    {
     "data": {
      "text/plain": [
       "[1.0,\n",
       " 0.6666666666666666,\n",
       " -1.0526315789473686,\n",
       " 0.5882352941176472,\n",
       " 0.5426356589147285,\n",
       " 0.23411371237458187,\n",
       " -0.7262723521320497]"
      ]
     },
     "execution_count": 25,
     "metadata": {},
     "output_type": "execute_result"
    }
   ],
   "source": [
    "yp,coste=sustAdelTridiag(7,Lp,bp,coste);yp"
   ]
  },
  {
   "cell_type": "code",
   "execution_count": 26,
   "metadata": {},
   "outputs": [
    {
     "data": {
      "text/plain": [
       "[0.44429160935350753,\n",
       " 1.111416781292985,\n",
       " -0.6671251719394774,\n",
       " 0.4883081155433288,\n",
       " -0.17881705639614864,\n",
       " 0.5474552957359009,\n",
       " -0.7262723521320497]"
      ]
     },
     "execution_count": 26,
     "metadata": {},
     "output_type": "execute_result"
    }
   ],
   "source": [
    "xp,costeC=sustAtrasCrout(7,Up,yp,coste);xp"
   ]
  },
  {
   "cell_type": "markdown",
   "metadata": {},
   "source": [
    "**Coste computacional**"
   ]
  },
  {
   "cell_type": "code",
   "execution_count": 27,
   "metadata": {},
   "outputs": [
    {
     "data": {
      "text/plain": [
       "49"
      ]
     },
     "execution_count": 27,
     "metadata": {},
     "output_type": "execute_result"
    }
   ],
   "source": [
    "costeC"
   ]
  },
  {
   "cell_type": "markdown",
   "metadata": {},
   "source": [
    "### **FACTORIZACIÓN DE DOOLITTLE**"
   ]
  },
  {
   "cell_type": "code",
   "execution_count": 17,
   "metadata": {},
   "outputs": [],
   "source": [
    "def doolittle(matrix, n):\n",
    "    coste=0\n",
    "    U=[[0 for j in range(n)] for i in range(n)]\n",
    "    L=[[0 for j in range(n)] for i in range(n)]\n",
    "    for i in range(n):\n",
    "        U[0][i]=matrix[0][i]\n",
    "    for i in range(n):\n",
    "        L[i][0]=matrix[i][0]/U[0][0];coste=coste+1\n",
    "        \n",
    "    for i in range(1,n):\n",
    "        for k in range(1,n):    \n",
    "            if (i)==(k):\n",
    "                L[k][i]=1    \n",
    "    \n",
    "    for i in range(1,n):\n",
    "        for k in range(i,n):\n",
    "            U[i][k]=matrix[i][k]-sumatorioprodB(L,U,k,i)\n",
    "            coste=coste+2*i+1 #2i operaciones del sumatorio\n",
    "        for k in range(i,n):\n",
    "            if (i)!=(k):\n",
    "                L[k][i]=(matrix[k][i]-sumatorioprodA(L,U,k,i))/U[i][i]\n",
    "                coste=coste+2*k+2 #2k operaciones del sumatorio\n",
    "    print(tabulate(L))\n",
    "    print(tabulate(U))\n",
    "    return L,U,coste"
   ]
  },
  {
   "cell_type": "code",
   "execution_count": 18,
   "metadata": {},
   "outputs": [
    {
     "name": "stdout",
     "output_type": "stream",
     "text": [
      "----  --------  -\n",
      "1     0         0\n",
      "0.25  1         0\n",
      "0.75  0.333333  1\n",
      "----  --------  -\n",
      "-  ----  -----\n",
      "4  1      1\n",
      "0  3.75  -2.25\n",
      "0  0     -4\n",
      "-  ----  -----\n"
     ]
    }
   ],
   "source": [
    "L,U,costeB=doolittle(A,n)"
   ]
  },
  {
   "cell_type": "markdown",
   "metadata": {},
   "source": [
    "### FACTORIZACIÓN DE DOOLITTLE - Matrices tridiagonales"
   ]
  },
  {
   "cell_type": "code",
   "execution_count": 30,
   "metadata": {},
   "outputs": [],
   "source": [
    "def doolittleTridiag(matrix, n):\n",
    "    coste=0;\n",
    "    U=[[0 for j in range(7)] for i in range(7)]\n",
    "    L=[[0 for j in range(7)] for i in range(7)]\n",
    "    U[0][0]=matrix[0][0]\n",
    "    L[1][0]=matrix[1][0]/U[0][0];coste=coste+1\n",
    "    for i in range(n):\n",
    "        L[i][i]=1\n",
    "    for i in range(1,n):\n",
    "        U[i-1][i]=matrix[i-1][i]\n",
    "        U[i][i]=matrix[i][i]-U[i-1][i]*L[i][i-1];coste=coste+2\n",
    "        if i==n-1:\n",
    "            break;\n",
    "        L[i+1][i]=matrix[i+1][i]/U[i][i];coste=coste+1\n",
    "    print(tabulate(L))\n",
    "    print(tabulate(U))\n",
    "    return L,U,coste"
   ]
  },
  {
   "cell_type": "code",
   "execution_count": 31,
   "metadata": {},
   "outputs": [],
   "source": [
    "def sustAdelDoolittle(n, L, b,coste): #L tiene 1s en su diagonal\n",
    "    y=[0 for j in range(n)]\n",
    "    y[0]=b[0]\n",
    "    for i in range(1,n):\n",
    "        y[i]=(b[i]-L[i][i-1]*y[i-1]);coste=coste+2\n",
    "    return y,coste"
   ]
  },
  {
   "cell_type": "code",
   "execution_count": 32,
   "metadata": {},
   "outputs": [],
   "source": [
    "def sustAtrasTridiag(n,U,y,coste):\n",
    "    x=[0 for j in range(n)]\n",
    "    x[n-1]=y[n-1]/U[n-1][n-1];coste=coste+1\n",
    "    for i in range(1,n):\n",
    "        x[n-i-1]=(y[n-i-1]-U[n-i-1][n-i]*x[n-i])/U[n-i-1][n-i-1];coste=coste+3\n",
    "    return x,coste"
   ]
  },
  {
   "cell_type": "code",
   "execution_count": 33,
   "metadata": {},
   "outputs": [
    {
     "name": "stdout",
     "output_type": "stream",
     "text": [
      "----  --------  --------  -------  ---------  --------  -\n",
      " 1     0        0         0         0          0        0\n",
      "-0.1   1        0         0         0          0        0\n",
      " 0    -3.33333  1         0         0          0        0\n",
      " 0     0        0.157895  1         0          0        0\n",
      " 0     0        0         2.79412   1          0        0\n",
      " 0     0        0         0        -0.263566   1        0\n",
      " 0     0        0         0         0         -2.15719  1\n",
      "----  --------  --------  -------  ---------  --------  -\n",
      "--  ---  -------  --------  --------  -------  -------\n",
      "10  5    0         0         0        0         0\n",
      " 0  1.5  1         0         0        0         0\n",
      " 0  0    6.33333  -5         0        0         0\n",
      " 0  0    0         1.78947  -1        0         0\n",
      " 0  0    0         0         3.79412  5         0\n",
      " 0  0    0         0         0        2.31783   1\n",
      " 0  0    0         0         0        0        12.1572\n",
      "--  ---  -------  --------  --------  -------  -------\n"
     ]
    }
   ],
   "source": [
    "Lpp,Upp,costeD=doolittleTridiag(Ap,7)"
   ]
  },
  {
   "cell_type": "code",
   "execution_count": 34,
   "metadata": {},
   "outputs": [
    {
     "data": {
      "text/plain": [
       "[10,\n",
       " 1.0,\n",
       " -6.666666666666666,\n",
       " 1.0526315789473684,\n",
       " 2.058823529411765,\n",
       " 0.5426356589147288,\n",
       " -8.82943143812709]"
      ]
     },
     "execution_count": 34,
     "metadata": {},
     "output_type": "execute_result"
    }
   ],
   "source": [
    "ypp,costeD=sustAdelDoolittle(7,Lpp,bp,costeD);ypp"
   ]
  },
  {
   "cell_type": "code",
   "execution_count": 35,
   "metadata": {},
   "outputs": [
    {
     "data": {
      "text/plain": [
       "[0.4442916093535077,\n",
       " 1.1114167812929847,\n",
       " -0.6671251719394771,\n",
       " 0.4883081155433287,\n",
       " -0.17881705639614853,\n",
       " 0.547455295735901,\n",
       " -0.7262723521320495]"
      ]
     },
     "execution_count": 35,
     "metadata": {},
     "output_type": "execute_result"
    }
   ],
   "source": [
    "xpp,costeD=sustAtrasTridiag(7,Upp,ypp,costeD);xpp"
   ]
  },
  {
   "cell_type": "markdown",
   "metadata": {},
   "source": [
    "**Coste computacional**"
   ]
  },
  {
   "cell_type": "code",
   "execution_count": 36,
   "metadata": {},
   "outputs": [
    {
     "data": {
      "text/plain": [
       "49"
      ]
     },
     "execution_count": 36,
     "metadata": {},
     "output_type": "execute_result"
    }
   ],
   "source": [
    "costeD"
   ]
  },
  {
   "cell_type": "markdown",
   "metadata": {},
   "source": [
    "### Factorización con $\\mbox{l}_{ii}$=$\\mbox{u}_{ii}$ para matrices tridiagonales"
   ]
  },
  {
   "cell_type": "code",
   "execution_count": 37,
   "metadata": {},
   "outputs": [],
   "source": [
    "def Tridiag(matrix,n):\n",
    "    coste=0\n",
    "    U=[[0 for j in range(7)] for i in range(7)]\n",
    "    L=[[0 for j in range(7)] for i in range(7)]\n",
    "    coste=0\n",
    "    L[0][0]=sqrt(matrix[0][0]);coste=coste+1\n",
    "    U[0][0]=sqrt(matrix[0][0]);coste=coste+1\n",
    "    for i in range (1,n):\n",
    "        L[i][i-1]=matrix[i][i-1]/U[i-1][i-1];coste=coste+1\n",
    "        U[i-1][i]=matrix[i-1][i]/L[i-1][i-1];coste=coste+1\n",
    "        L[i][i]=sqrt(matrix[i][i]-L[i][i-1]*U[i-1][i]);coste=coste+3\n",
    "        U[i][i]=L[i][i]\n",
    "    print(tabulate(L))\n",
    "    print(tabulate(U))\n",
    "    return L,U,coste"
   ]
  },
  {
   "cell_type": "code",
   "execution_count": 38,
   "metadata": {},
   "outputs": [
    {
     "name": "stdout",
     "output_type": "stream",
     "text": [
      "---------  --------  -------  -------  ---------  --------  -------\n",
      " 3.16228    0        0        0         0          0        0\n",
      "-0.316228   1.22474  0        0         0          0        0\n",
      " 0         -4.08248  2.51661  0         0          0        0\n",
      " 0          0        0.39736  1.33771   0          0        0\n",
      " 0          0        0        3.73773   1.94785    0        0\n",
      " 0          0        0        0        -0.513387   1.52244  0\n",
      " 0          0        0        0         0         -3.2842   3.48672\n",
      "---------  --------  -------  -------  ---------  --------  -------\n",
      "-------  -------  --------  --------  ---------  -------  --------\n",
      "3.16228  1.58114  0          0         0         0        0\n",
      "0        1.22474  0.816497   0         0         0        0\n",
      "0        0        2.51661   -1.9868    0         0        0\n",
      "0        0        0          1.33771  -0.747545  0        0\n",
      "0        0        0          0         1.94785   2.56693  0\n",
      "0        0        0          0         0         1.52244  0.656839\n",
      "0        0        0          0         0         0        3.48672\n",
      "-------  -------  --------  --------  ---------  -------  --------\n"
     ]
    }
   ],
   "source": [
    "La,Ua,costeE=Tridiag(Ap,7)"
   ]
  },
  {
   "cell_type": "code",
   "execution_count": 39,
   "metadata": {},
   "outputs": [
    {
     "data": {
      "text/plain": [
       "[3.162277660168379,\n",
       " 0.8164965809277261,\n",
       " -2.649064714130087,\n",
       " 0.7868894753646335,\n",
       " 1.0569725930559888,\n",
       " 0.3564245341939225,\n",
       " -2.532305656621496]"
      ]
     },
     "execution_count": 39,
     "metadata": {},
     "output_type": "execute_result"
    }
   ],
   "source": [
    "ya,costeE=sustAdelTridiag(7,La,bp,costeE);ya"
   ]
  },
  {
   "cell_type": "code",
   "execution_count": 40,
   "metadata": {},
   "outputs": [
    {
     "data": {
      "text/plain": [
       "[0.44429160935350737,\n",
       " 1.1114167812929852,\n",
       " -0.6671251719394773,\n",
       " 0.48830811554332854,\n",
       " -0.17881705639614856,\n",
       " 0.5474552957359011,\n",
       " -0.7262723521320494]"
      ]
     },
     "execution_count": 40,
     "metadata": {},
     "output_type": "execute_result"
    }
   ],
   "source": [
    "xa,costeE=sustAtrasTridiag(7,Ua,ya,costeE);xa"
   ]
  },
  {
   "cell_type": "markdown",
   "metadata": {},
   "source": [
    "**Coste computacional**"
   ]
  },
  {
   "cell_type": "code",
   "execution_count": 41,
   "metadata": {},
   "outputs": [
    {
     "data": {
      "text/plain": [
       "70"
      ]
     },
     "execution_count": 41,
     "metadata": {},
     "output_type": "execute_result"
    }
   ],
   "source": [
    "costeE"
   ]
  },
  {
   "cell_type": "markdown",
   "metadata": {},
   "source": [
    "### MÉTODO DE JACOBI"
   ]
  },
  {
   "cell_type": "code",
   "execution_count": 42,
   "metadata": {},
   "outputs": [
    {
     "data": {
      "text/plain": [
       "[[2, -1, 0], [-1, 2, -1], [0, -1, 2]]"
      ]
     },
     "execution_count": 42,
     "metadata": {},
     "output_type": "execute_result"
    }
   ],
   "source": [
    "# Introducir matriz de coeficientes\n",
    "A=[[2,-1,0],[-1,2,-1],[0,-1,2]]\n",
    "A"
   ]
  },
  {
   "cell_type": "code",
   "execution_count": 43,
   "metadata": {},
   "outputs": [
    {
     "data": {
      "text/plain": [
       "[1, 2, 1]"
      ]
     },
     "execution_count": 43,
     "metadata": {},
     "output_type": "execute_result"
    }
   ],
   "source": [
    "# Introducir matriz de coeficientes independientes\n",
    "b=[1,2,1]\n",
    "b"
   ]
  },
  {
   "cell_type": "code",
   "execution_count": 44,
   "metadata": {},
   "outputs": [],
   "source": [
    "iter=20\n",
    "n=3\n",
    "x0=[0,0,0,0] "
   ]
  },
  {
   "cell_type": "code",
   "execution_count": 45,
   "metadata": {},
   "outputs": [],
   "source": [
    "def jacobi(A,b,n,x0):\n",
    "    xiter=[[0 for j in range(n)] for i in range(iter+1)]\n",
    "    value=[x0[i] for i in range(n)]\n",
    "    for j in range (iter):\n",
    "        for i in range (n):\n",
    "            xiter[j+1][i]=(1/A[i][i])*((-sumatorio(A,b,n,value,i))+b[i])\n",
    "        for i in range (n):\n",
    "            value[i]=xiter[j+1][i]\n",
    "    print(tabulate(xiter))"
   ]
  },
  {
   "cell_type": "code",
   "execution_count": 46,
   "metadata": {},
   "outputs": [],
   "source": [
    "def sumatorio(A,b,n,g0,i):\n",
    "    suma=0\n",
    "    for j in range(0,i):\n",
    "        suma=suma+A[i][j]*g0[j]\n",
    "    for j in range(i+1,n):\n",
    "        suma=suma+A[i][j]*g0[j]\n",
    "    return suma"
   ]
  },
  {
   "cell_type": "code",
   "execution_count": 47,
   "metadata": {},
   "outputs": [
    {
     "data": {
      "text/plain": [
       "[[2, -1, 0], [-1, 2, -1], [0, -1, 2]]"
      ]
     },
     "execution_count": 47,
     "metadata": {},
     "output_type": "execute_result"
    }
   ],
   "source": [
    "A"
   ]
  },
  {
   "cell_type": "code",
   "execution_count": 48,
   "metadata": {},
   "outputs": [
    {
     "name": "stdout",
     "output_type": "stream",
     "text": [
      "-------  -------  -------\n",
      "0        0        0\n",
      "0.5      1        0.5\n",
      "1        1.5      1\n",
      "1.25     2        1.25\n",
      "1.5      2.25     1.5\n",
      "1.625    2.5      1.625\n",
      "1.75     2.625    1.75\n",
      "1.8125   2.75     1.8125\n",
      "1.875    2.8125   1.875\n",
      "1.90625  2.875    1.90625\n",
      "1.9375   2.90625  1.9375\n",
      "1.95312  2.9375   1.95312\n",
      "1.96875  2.95312  1.96875\n",
      "1.97656  2.96875  1.97656\n",
      "1.98438  2.97656  1.98438\n",
      "1.98828  2.98438  1.98828\n",
      "1.99219  2.98828  1.99219\n",
      "1.99414  2.99219  1.99414\n",
      "1.99609  2.99414  1.99609\n",
      "1.99707  2.99609  1.99707\n",
      "1.99805  2.99707  1.99805\n",
      "-------  -------  -------\n"
     ]
    }
   ],
   "source": [
    "jacobi(A,b,n,x0)"
   ]
  },
  {
   "cell_type": "markdown",
   "metadata": {},
   "source": [
    "### MÉTODO DE GAUSS-SEIDEL"
   ]
  },
  {
   "cell_type": "code",
   "execution_count": 49,
   "metadata": {},
   "outputs": [
    {
     "data": {
      "text/plain": [
       "[[2, -1, 0], [-1, 2, -1], [0, -1, 2]]"
      ]
     },
     "execution_count": 49,
     "metadata": {},
     "output_type": "execute_result"
    }
   ],
   "source": [
    "# Introducir matriz de coeficientes\n",
    "A=[[2,-1,0],[-1,2,-1],[0,-1,2]]\n",
    "A"
   ]
  },
  {
   "cell_type": "code",
   "execution_count": 50,
   "metadata": {},
   "outputs": [
    {
     "data": {
      "text/plain": [
       "[1, 2, 1]"
      ]
     },
     "execution_count": 50,
     "metadata": {},
     "output_type": "execute_result"
    }
   ],
   "source": [
    "# Introducir matriz de coeficientes independientes\n",
    "b=[1,2,1]\n",
    "b"
   ]
  },
  {
   "cell_type": "code",
   "execution_count": 51,
   "metadata": {},
   "outputs": [],
   "source": [
    "iter=20\n",
    "n=3\n",
    "x0=[0,0,0] "
   ]
  },
  {
   "cell_type": "code",
   "execution_count": 52,
   "metadata": {},
   "outputs": [],
   "source": [
    "def gs(A,b,n,x0):\n",
    "    xiter=[[0 for j in range(n)] for i in range(iter+1)]\n",
    "    value=[x0[i] for i in range(n)]\n",
    "    for j in range (iter):\n",
    "        for i in range (n):\n",
    "            xiter[j+1][i]=(1/A[i][i])*((-sumatorio(A,b,n,value,i))+b[i])\n",
    "            value[i]=xiter[j+1][i]\n",
    "    print(tabulate(xiter))"
   ]
  },
  {
   "cell_type": "code",
   "execution_count": 53,
   "metadata": {},
   "outputs": [
    {
     "name": "stdout",
     "output_type": "stream",
     "text": [
      "-------  -------  -------\n",
      "0        0        0\n",
      "0.5      1.25     1.125\n",
      "1.125    2.125    1.5625\n",
      "1.5625   2.5625   1.78125\n",
      "1.78125  2.78125  1.89062\n",
      "1.89062  2.89062  1.94531\n",
      "1.94531  2.94531  1.97266\n",
      "1.97266  2.97266  1.98633\n",
      "1.98633  2.98633  1.99316\n",
      "1.99316  2.99316  1.99658\n",
      "1.99658  2.99658  1.99829\n",
      "1.99829  2.99829  1.99915\n",
      "1.99915  2.99915  1.99957\n",
      "1.99957  2.99957  1.99979\n",
      "1.99979  2.99979  1.99989\n",
      "1.99989  2.99989  1.99995\n",
      "1.99995  2.99995  1.99997\n",
      "1.99997  2.99997  1.99999\n",
      "1.99999  2.99999  1.99999\n",
      "1.99999  2.99999  2\n",
      "2        3        2\n",
      "-------  -------  -------\n"
     ]
    }
   ],
   "source": [
    "gs(A,b,n,x0)"
   ]
  },
  {
   "cell_type": "markdown",
   "metadata": {},
   "source": [
    "# MÉTODO DE RELAJACIÓN"
   ]
  },
  {
   "cell_type": "code",
   "execution_count": 54,
   "metadata": {},
   "outputs": [],
   "source": [
    "w=1.25"
   ]
  },
  {
   "cell_type": "code",
   "execution_count": 55,
   "metadata": {},
   "outputs": [],
   "source": [
    "def relajacion(A,b,n,x0):\n",
    "    xiter=[[0 for j in range(n)] for i in range(iter+1)]\n",
    "    value=[x0[i] for i in range(n)]\n",
    "    for j in range (iter):\n",
    "        for i in range (n):\n",
    "            xiter[j+1][i]=(1-w)*xiter[j][i]+(w/A[i][i])*((-sumatorio(A,b,n,value,i))+b[i])\n",
    "            value[i]=xiter[j+1][i]\n",
    "    print(tabulate(xiter))"
   ]
  },
  {
   "cell_type": "code",
   "execution_count": 56,
   "metadata": {},
   "outputs": [
    {
     "name": "stdout",
     "output_type": "stream",
     "text": [
      "-------  -------  -------\n",
      "0        0        0\n",
      "0.625    1.64062  1.65039\n",
      "1.49414  2.80518  1.96564\n",
      "2.0047   3.03017  2.02744\n",
      "2.01768  3.02066  2.00605\n",
      "2.00849  3.00393  2.00094\n",
      "2.00033  2.99981  1.99965\n",
      "1.9998   2.9997   1.9999\n",
      "1.99986  2.99993  1.99998\n",
      "1.99999  3        2\n",
      "2        3        2\n",
      "2        3        2\n",
      "2        3        2\n",
      "2        3        2\n",
      "2        3        2\n",
      "2        3        2\n",
      "2        3        2\n",
      "2        3        2\n",
      "2        3        2\n",
      "2        3        2\n",
      "2        3        2\n",
      "-------  -------  -------\n"
     ]
    }
   ],
   "source": [
    "relajacion(A,b,n,x0)"
   ]
  },
  {
   "cell_type": "markdown",
   "metadata": {},
   "source": [
    "# MÉTODO DE NEWTON SISTEMAS"
   ]
  },
  {
   "cell_type": "code",
   "execution_count": 57,
   "metadata": {},
   "outputs": [],
   "source": [
    "import pprint\n",
    "from math import cos, sin, log\n",
    "from numpy import dot\n",
    "from numpy.linalg import inv, solve\n",
    "import numpy.linalg"
   ]
  },
  {
   "cell_type": "code",
   "execution_count": 78,
   "metadata": {},
   "outputs": [],
   "source": [
    "def F(x):\n",
    "        f = [x[0]**2+3*x[1]**2-1]\n",
    "        f.append((x[0]-2)**2+(x[1]-1)**2-4)\n",
    "        return f\n",
    "    \n",
    "def JF(x):\n",
    "    return [\n",
    "        [2*x[0],6*x[1]],\n",
    "        [2*(x[0]-2),2*(x[1]-1)]\n",
    "    ] \n",
    "\n",
    "X0=[0,0.5]"
   ]
  },
  {
   "cell_type": "code",
   "execution_count": 81,
   "metadata": {},
   "outputs": [],
   "source": [
    "def newtonsistemassucesion(Func, DFunc, Xg, n):\n",
    "    for i in range(n):\n",
    "           Xiter = Xg- dot(inv(DFunc(Xg)),Func(Xg))\n",
    "           Xg = Xiter\n",
    "           iter =print(i+1,Xg)\n",
    "    return iter "
   ]
  },
  {
   "cell_type": "code",
   "execution_count": 82,
   "metadata": {},
   "outputs": [
    {
     "name": "stdout",
     "output_type": "stream",
     "text": [
      "1 [0.04166667 0.58333333]\n",
      "2 [0.04527325 0.57679905]\n",
      "3 [0.04529646 0.57675767]\n",
      "4 [0.04529646 0.57675767]\n",
      "5 [0.04529646 0.57675767]\n",
      "6 [0.04529646 0.57675767]\n",
      "7 [0.04529646 0.57675767]\n",
      "8 [0.04529646 0.57675767]\n",
      "9 [0.04529646 0.57675767]\n",
      "10 [0.04529646 0.57675767]\n",
      "11 [0.04529646 0.57675767]\n",
      "12 [0.04529646 0.57675767]\n",
      "13 [0.04529646 0.57675767]\n",
      "14 [0.04529646 0.57675767]\n",
      "15 [0.04529646 0.57675767]\n"
     ]
    }
   ],
   "source": [
    "newtonsistemassucesion(F, JF, X0, 15)"
   ]
  },
  {
   "cell_type": "code",
   "execution_count": 83,
   "metadata": {},
   "outputs": [
    {
     "data": {
      "text/plain": [
       "[-0.25, 0.25]"
      ]
     },
     "execution_count": 83,
     "metadata": {},
     "output_type": "execute_result"
    }
   ],
   "source": [
    "F(X0)"
   ]
  }
 ],
 "metadata": {
  "kernelspec": {
   "display_name": "Python 3",
   "language": "python",
   "name": "python3"
  },
  "language_info": {
   "codemirror_mode": {
    "name": "ipython",
    "version": 3
   },
   "file_extension": ".py",
   "mimetype": "text/x-python",
   "name": "python",
   "nbconvert_exporter": "python",
   "pygments_lexer": "ipython3",
   "version": "3.7.4"
  }
 },
 "nbformat": 4,
 "nbformat_minor": 2
}
