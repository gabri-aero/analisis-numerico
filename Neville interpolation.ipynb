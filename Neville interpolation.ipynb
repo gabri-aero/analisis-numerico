{
 "cells": [
  {
   "cell_type": "markdown",
   "metadata": {},
   "source": [
    "# NEVILLE INTERPOLATION"
   ]
  },
  {
   "cell_type": "code",
   "execution_count": 1,
   "metadata": {},
   "outputs": [
    {
     "name": "stdout",
     "output_type": "stream",
     "text": [
      "Requirement already satisfied: tabulate in c:\\users\\gvall\\anaconda3\\lib\\site-packages (0.8.7)\n",
      "Note: you may need to restart the kernel to use updated packages.\n"
     ]
    }
   ],
   "source": [
    "pip install tabulate"
   ]
  },
  {
   "cell_type": "code",
   "execution_count": 2,
   "metadata": {},
   "outputs": [],
   "source": [
    "from tabulate import tabulate"
   ]
  },
  {
   "cell_type": "code",
   "execution_count": 3,
   "metadata": {},
   "outputs": [],
   "source": [
    "x=[2.4,2.6,1.9,1.5,1.3]\n",
    "f=[-0.499642,0.458951,-0.451466,0.778073,0.992904]\n",
    "xval=2.3\n",
    "#reordenar tabla según cercanía a xval"
   ]
  },
  {
   "cell_type": "code",
   "execution_count": 4,
   "metadata": {},
   "outputs": [],
   "source": [
    "def neville(x,f,xvalue):\n",
    "    n=len(x)\n",
    "    Q=[[0] * (i+1) for i in range(n)]\n",
    "    for i in range(n):\n",
    "        Q[i][0]=f[i]\n",
    "    for i in range(1,n):\n",
    "        for j in range(1,i+1):\n",
    "            Q[i][j]=((xvalue-x[i-j])*Q[i][j-1]-(xvalue-x[i])*Q[i-1][j-1])/(x[i]-x[i-j])\n",
    "    print(tabulate(Q, floatfmt=\".7f\"))"
   ]
  },
  {
   "cell_type": "code",
   "execution_count": 5,
   "metadata": {},
   "outputs": [
    {
     "name": "stdout",
     "output_type": "stream",
     "text": [
      "----------  ----------  ----------  ----------  ----------\n",
      "-0.4996420\n",
      " 0.4589510  -0.9789385\n",
      "-0.4514660   0.0687723  -0.7693963\n",
      " 0.7780730  -1.6810050  -0.4084397  -0.7292900\n",
      " 0.9929040  -0.0812510  -2.7475077  -0.9482246  -0.7491932\n",
      "----------  ----------  ----------  ----------  ----------\n"
     ]
    }
   ],
   "source": [
    "neville(x,f,xval)\n",
    "#la línea superior representa los valores de las interpolaciones de lagrange utilizando polinomios\n",
    "#de grado igual al índice de la columna"
   ]
  }
 ],
 "metadata": {
  "kernelspec": {
   "display_name": "Python 3",
   "language": "python",
   "name": "python3"
  },
  "language_info": {
   "codemirror_mode": {
    "name": "ipython",
    "version": 3
   },
   "file_extension": ".py",
   "mimetype": "text/x-python",
   "name": "python",
   "nbconvert_exporter": "python",
   "pygments_lexer": "ipython3",
   "version": "3.7.4"
  }
 },
 "nbformat": 4,
 "nbformat_minor": 2
}
